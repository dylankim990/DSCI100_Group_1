{
 "cells": [
  {
   "cell_type": "markdown",
   "metadata": {},
   "source": [
    "Intro \n",
    "\n",
    "Our research seeks to answer the question of identifying the classification of raisins given our data set(source). We will be using KNN K nearest neighbors classification algorithm in our project. We will be relying on (source) (literature already done and researched using SVM, ML and other methods) as a benchmark of our performance. We will analyze how the use of data given will influence or impact the results of classification, accuracy, and other performance metrics will be analyzed. With our results we will be comparing the usefulness of our methods and analysis using performance metrics against (source) (Gazi Mühendislik Bilimleri Dergisi). We will also determine which combination of sets of predictors from our given dataset produce the most accurate results, ei how much influence each data column has on predicting accurately the class of the raisin. We will perform cross validation to ensure greatest accuracy and minimal error in stratifying our training and validation subset and measure the error in our analysis. "
   ]
  },
  {
   "cell_type": "markdown",
   "metadata": {},
   "source": [
    "Source Citation in APA: "
   ]
  },
  {
   "cell_type": "markdown",
   "metadata": {},
   "source": [
    "ÇINAR İ̇lkay, KOKLU, M., &amp; TAŞDEMİR, Ş. (2020). (Classification of Raisin Grains Using Machine Vision and Artificial  Intelligence Methods) Kuru üzüm Tanelerinin Makine Görüşü ve Yapay Zeka yöntemleri Kullanılarak Sınıflandırılması. Gazi Journal of Engineering Sciences, 6(3), 200–209. https://doi.org/10.30855/gmbd.2020.03.03 "
   ]
  },
  {
   "cell_type": "code",
   "execution_count": null,
   "metadata": {},
   "outputs": [],
   "source": []
  },
  {
   "cell_type": "code",
   "execution_count": null,
   "metadata": {},
   "outputs": [],
   "source": []
  }
 ],
 "metadata": {
  "kernelspec": {
   "display_name": "R",
   "language": "R",
   "name": "ir"
  },
  "language_info": {
   "codemirror_mode": "r",
   "file_extension": ".r",
   "mimetype": "text/x-r-source",
   "name": "R",
   "pygments_lexer": "r",
   "version": "4.0.0"
  }
 },
 "nbformat": 4,
 "nbformat_minor": 4
}
