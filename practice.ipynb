{
 "cells": [
  {
   "cell_type": "markdown",
   "metadata": {},
   "source": [
    "## Title: Kknn model to predict Raisin class using classification"
   ]
  },
  {
   "cell_type": "markdown",
   "metadata": {},
   "source": [
    "## Introduction: "
   ]
  },
  {
   "cell_type": "markdown",
   "metadata": {},
   "source": [
    "Write Introduction here..."
   ]
  },
  {
   "cell_type": "markdown",
   "metadata": {},
   "source": [
    "## Preliminary exploratory data analysis:\n",
    "\n",
    "#### 1. Demonstrating that the dataset can be read from the web into R "
   ]
  },
  {
   "cell_type": "code",
   "execution_count": 62,
   "metadata": {},
   "outputs": [],
   "source": [
    "library(tidyverse)\n",
    "library(tidymodels)\n",
    "library(readxl)"
   ]
  },
  {
   "cell_type": "code",
   "execution_count": 63,
   "metadata": {},
   "outputs": [
    {
     "name": "stderr",
     "output_type": "stream",
     "text": [
      "Parsed with column specification:\n",
      "cols(\n",
      "  Area = \u001b[32mcol_double()\u001b[39m,\n",
      "  MajorAxisLength = \u001b[32mcol_double()\u001b[39m,\n",
      "  MinorAxisLength = \u001b[32mcol_double()\u001b[39m,\n",
      "  Eccentricity = \u001b[32mcol_double()\u001b[39m,\n",
      "  ConvexArea = \u001b[32mcol_double()\u001b[39m,\n",
      "  Extent = \u001b[32mcol_double()\u001b[39m,\n",
      "  Perimeter = \u001b[32mcol_double()\u001b[39m,\n",
      "  Class = \u001b[31mcol_character()\u001b[39m\n",
      ")\n",
      "\n"
     ]
    }
   ],
   "source": [
    "raisin_data <- read_csv(\"https://github.com/dylankim990/DSCI100_Group_2/raw/main/data/Raisin_Dataset.csv\")"
   ]
  },
  {
   "cell_type": "markdown",
   "metadata": {},
   "source": [
    "#### 2. Clean and wrangle your data into a tidy format"
   ]
  },
  {
   "cell_type": "code",
   "execution_count": 64,
   "metadata": {},
   "outputs": [
    {
     "name": "stdout",
     "output_type": "stream",
     "text": [
      "Rows: 900\n",
      "Columns: 8\n",
      "$ Area            \u001b[3m\u001b[90m<dbl>\u001b[39m\u001b[23m 87524, 75166, 90856, 45928, 79408, 49242, 42492, 6095…\n",
      "$ MajorAxisLength \u001b[3m\u001b[90m<dbl>\u001b[39m\u001b[23m 442.2460, 406.6907, 442.2670, 286.5406, 352.1908, 318…\n",
      "$ MinorAxisLength \u001b[3m\u001b[90m<dbl>\u001b[39m\u001b[23m 253.2912, 243.0324, 266.3283, 208.7600, 290.8275, 200…\n",
      "$ Eccentricity    \u001b[3m\u001b[90m<dbl>\u001b[39m\u001b[23m 0.8197384, 0.8018052, 0.7983536, 0.6849892, 0.5640113…\n",
      "$ ConvexArea      \u001b[3m\u001b[90m<dbl>\u001b[39m\u001b[23m 90546, 78789, 93717, 47336, 81463, 51368, 43904, 6232…\n",
      "$ Extent          \u001b[3m\u001b[90m<dbl>\u001b[39m\u001b[23m 0.7586506, 0.6841296, 0.6376128, 0.6995994, 0.7927719…\n",
      "$ Perimeter       \u001b[3m\u001b[90m<dbl>\u001b[39m\u001b[23m 1184.040, 1121.786, 1208.575, 844.162, 1073.251, 881.…\n",
      "$ Class           \u001b[3m\u001b[90m<chr>\u001b[39m\u001b[23m \"Kecimen\", \"Kecimen\", \"Kecimen\", \"Kecimen\", \"Kecimen\"…\n"
     ]
    },
    {
     "data": {
      "text/html": [
       "<table>\n",
       "<caption>A tibble: 6 × 8</caption>\n",
       "<thead>\n",
       "\t<tr><th scope=col>Area</th><th scope=col>MajorAxisLength</th><th scope=col>MinorAxisLength</th><th scope=col>Eccentricity</th><th scope=col>ConvexArea</th><th scope=col>Extent</th><th scope=col>Perimeter</th><th scope=col>Class</th></tr>\n",
       "\t<tr><th scope=col>&lt;dbl&gt;</th><th scope=col>&lt;dbl&gt;</th><th scope=col>&lt;dbl&gt;</th><th scope=col>&lt;dbl&gt;</th><th scope=col>&lt;dbl&gt;</th><th scope=col>&lt;dbl&gt;</th><th scope=col>&lt;dbl&gt;</th><th scope=col>&lt;chr&gt;</th></tr>\n",
       "</thead>\n",
       "<tbody>\n",
       "\t<tr><td>87524</td><td>442.2460</td><td>253.2912</td><td>0.8197384</td><td>90546</td><td>0.7586506</td><td>1184.040</td><td>Kecimen</td></tr>\n",
       "\t<tr><td>75166</td><td>406.6907</td><td>243.0324</td><td>0.8018052</td><td>78789</td><td>0.6841296</td><td>1121.786</td><td>Kecimen</td></tr>\n",
       "\t<tr><td>90856</td><td>442.2670</td><td>266.3283</td><td>0.7983536</td><td>93717</td><td>0.6376128</td><td>1208.575</td><td>Kecimen</td></tr>\n",
       "\t<tr><td>45928</td><td>286.5406</td><td>208.7600</td><td>0.6849892</td><td>47336</td><td>0.6995994</td><td> 844.162</td><td>Kecimen</td></tr>\n",
       "\t<tr><td>79408</td><td>352.1908</td><td>290.8275</td><td>0.5640113</td><td>81463</td><td>0.7927719</td><td>1073.251</td><td>Kecimen</td></tr>\n",
       "\t<tr><td>49242</td><td>318.1254</td><td>200.1221</td><td>0.7773513</td><td>51368</td><td>0.6584564</td><td> 881.836</td><td>Kecimen</td></tr>\n",
       "</tbody>\n",
       "</table>\n"
      ],
      "text/latex": [
       "A tibble: 6 × 8\n",
       "\\begin{tabular}{llllllll}\n",
       " Area & MajorAxisLength & MinorAxisLength & Eccentricity & ConvexArea & Extent & Perimeter & Class\\\\\n",
       " <dbl> & <dbl> & <dbl> & <dbl> & <dbl> & <dbl> & <dbl> & <chr>\\\\\n",
       "\\hline\n",
       "\t 87524 & 442.2460 & 253.2912 & 0.8197384 & 90546 & 0.7586506 & 1184.040 & Kecimen\\\\\n",
       "\t 75166 & 406.6907 & 243.0324 & 0.8018052 & 78789 & 0.6841296 & 1121.786 & Kecimen\\\\\n",
       "\t 90856 & 442.2670 & 266.3283 & 0.7983536 & 93717 & 0.6376128 & 1208.575 & Kecimen\\\\\n",
       "\t 45928 & 286.5406 & 208.7600 & 0.6849892 & 47336 & 0.6995994 &  844.162 & Kecimen\\\\\n",
       "\t 79408 & 352.1908 & 290.8275 & 0.5640113 & 81463 & 0.7927719 & 1073.251 & Kecimen\\\\\n",
       "\t 49242 & 318.1254 & 200.1221 & 0.7773513 & 51368 & 0.6584564 &  881.836 & Kecimen\\\\\n",
       "\\end{tabular}\n"
      ],
      "text/markdown": [
       "\n",
       "A tibble: 6 × 8\n",
       "\n",
       "| Area &lt;dbl&gt; | MajorAxisLength &lt;dbl&gt; | MinorAxisLength &lt;dbl&gt; | Eccentricity &lt;dbl&gt; | ConvexArea &lt;dbl&gt; | Extent &lt;dbl&gt; | Perimeter &lt;dbl&gt; | Class &lt;chr&gt; |\n",
       "|---|---|---|---|---|---|---|---|\n",
       "| 87524 | 442.2460 | 253.2912 | 0.8197384 | 90546 | 0.7586506 | 1184.040 | Kecimen |\n",
       "| 75166 | 406.6907 | 243.0324 | 0.8018052 | 78789 | 0.6841296 | 1121.786 | Kecimen |\n",
       "| 90856 | 442.2670 | 266.3283 | 0.7983536 | 93717 | 0.6376128 | 1208.575 | Kecimen |\n",
       "| 45928 | 286.5406 | 208.7600 | 0.6849892 | 47336 | 0.6995994 |  844.162 | Kecimen |\n",
       "| 79408 | 352.1908 | 290.8275 | 0.5640113 | 81463 | 0.7927719 | 1073.251 | Kecimen |\n",
       "| 49242 | 318.1254 | 200.1221 | 0.7773513 | 51368 | 0.6584564 |  881.836 | Kecimen |\n",
       "\n"
      ],
      "text/plain": [
       "  Area  MajorAxisLength MinorAxisLength Eccentricity ConvexArea Extent   \n",
       "1 87524 442.2460        253.2912        0.8197384    90546      0.7586506\n",
       "2 75166 406.6907        243.0324        0.8018052    78789      0.6841296\n",
       "3 90856 442.2670        266.3283        0.7983536    93717      0.6376128\n",
       "4 45928 286.5406        208.7600        0.6849892    47336      0.6995994\n",
       "5 79408 352.1908        290.8275        0.5640113    81463      0.7927719\n",
       "6 49242 318.1254        200.1221        0.7773513    51368      0.6584564\n",
       "  Perimeter Class  \n",
       "1 1184.040  Kecimen\n",
       "2 1121.786  Kecimen\n",
       "3 1208.575  Kecimen\n",
       "4  844.162  Kecimen\n",
       "5 1073.251  Kecimen\n",
       "6  881.836  Kecimen"
      ]
     },
     "metadata": {},
     "output_type": "display_data"
    }
   ],
   "source": [
    "# tidying was not neccesary since they were in a tidy format\n",
    "glimpse(raisin_data)\n",
    "head(raisin_data)"
   ]
  },
  {
   "cell_type": "markdown",
   "metadata": {},
   "source": [
    "#### 3. Summarizing the data in at least one table"
   ]
  },
  {
   "cell_type": "code",
   "execution_count": 65,
   "metadata": {},
   "outputs": [
    {
     "name": "stderr",
     "output_type": "stream",
     "text": [
      "`summarise()` ungrouping output (override with `.groups` argument)\n",
      "\n"
     ]
    },
    {
     "data": {
      "text/html": [
       "<table>\n",
       "<caption>A tibble: 2 × 2</caption>\n",
       "<thead>\n",
       "\t<tr><th scope=col>Class</th><th scope=col>num_obs</th></tr>\n",
       "\t<tr><th scope=col>&lt;chr&gt;</th><th scope=col>&lt;int&gt;</th></tr>\n",
       "</thead>\n",
       "<tbody>\n",
       "\t<tr><td>Besni  </td><td>450</td></tr>\n",
       "\t<tr><td>Kecimen</td><td>450</td></tr>\n",
       "</tbody>\n",
       "</table>\n"
      ],
      "text/latex": [
       "A tibble: 2 × 2\n",
       "\\begin{tabular}{ll}\n",
       " Class & num\\_obs\\\\\n",
       " <chr> & <int>\\\\\n",
       "\\hline\n",
       "\t Besni   & 450\\\\\n",
       "\t Kecimen & 450\\\\\n",
       "\\end{tabular}\n"
      ],
      "text/markdown": [
       "\n",
       "A tibble: 2 × 2\n",
       "\n",
       "| Class &lt;chr&gt; | num_obs &lt;int&gt; |\n",
       "|---|---|\n",
       "| Besni   | 450 |\n",
       "| Kecimen | 450 |\n",
       "\n"
      ],
      "text/plain": [
       "  Class   num_obs\n",
       "1 Besni   450    \n",
       "2 Kecimen 450    "
      ]
     },
     "metadata": {},
     "output_type": "display_data"
    }
   ],
   "source": [
    "#a) the number of observations in each class\n",
    "obs_num_class <- raisin_data %>%\n",
    "    group_by(Class) %>%\n",
    "    summarize(num_obs = n())\n",
    "\n",
    "obs_num_class"
   ]
  },
  {
   "cell_type": "code",
   "execution_count": 66,
   "metadata": {},
   "outputs": [
    {
     "data": {
      "text/html": [
       "<table>\n",
       "<caption>A tibble: 1 × 7</caption>\n",
       "<thead>\n",
       "\t<tr><th scope=col>Area</th><th scope=col>MajorAxisLength</th><th scope=col>MinorAxisLength</th><th scope=col>Eccentricity</th><th scope=col>ConvexArea</th><th scope=col>Extent</th><th scope=col>Perimeter</th></tr>\n",
       "\t<tr><th scope=col>&lt;dbl&gt;</th><th scope=col>&lt;dbl&gt;</th><th scope=col>&lt;dbl&gt;</th><th scope=col>&lt;dbl&gt;</th><th scope=col>&lt;dbl&gt;</th><th scope=col>&lt;dbl&gt;</th><th scope=col>&lt;dbl&gt;</th></tr>\n",
       "</thead>\n",
       "<tbody>\n",
       "\t<tr><td>87804.13</td><td>430.93</td><td>254.4881</td><td>0.7815422</td><td>91186.09</td><td>0.6995079</td><td>1165.907</td></tr>\n",
       "</tbody>\n",
       "</table>\n"
      ],
      "text/latex": [
       "A tibble: 1 × 7\n",
       "\\begin{tabular}{lllllll}\n",
       " Area & MajorAxisLength & MinorAxisLength & Eccentricity & ConvexArea & Extent & Perimeter\\\\\n",
       " <dbl> & <dbl> & <dbl> & <dbl> & <dbl> & <dbl> & <dbl>\\\\\n",
       "\\hline\n",
       "\t 87804.13 & 430.93 & 254.4881 & 0.7815422 & 91186.09 & 0.6995079 & 1165.907\\\\\n",
       "\\end{tabular}\n"
      ],
      "text/markdown": [
       "\n",
       "A tibble: 1 × 7\n",
       "\n",
       "| Area &lt;dbl&gt; | MajorAxisLength &lt;dbl&gt; | MinorAxisLength &lt;dbl&gt; | Eccentricity &lt;dbl&gt; | ConvexArea &lt;dbl&gt; | Extent &lt;dbl&gt; | Perimeter &lt;dbl&gt; |\n",
       "|---|---|---|---|---|---|---|\n",
       "| 87804.13 | 430.93 | 254.4881 | 0.7815422 | 91186.09 | 0.6995079 | 1165.907 |\n",
       "\n"
      ],
      "text/plain": [
       "  Area     MajorAxisLength MinorAxisLength Eccentricity ConvexArea Extent   \n",
       "1 87804.13 430.93          254.4881        0.7815422    91186.09   0.6995079\n",
       "  Perimeter\n",
       "1 1165.907 "
      ]
     },
     "metadata": {},
     "output_type": "display_data"
    }
   ],
   "source": [
    "#b) the means of the predictor variables you plan to use in your analysis\n",
    "means_predictors <- raisin_data %>%\n",
    "    select(-Class) %>%\n",
    "    map_df(mean)\n",
    "\n",
    "means_predictors    "
   ]
  },
  {
   "cell_type": "code",
   "execution_count": 67,
   "metadata": {},
   "outputs": [
    {
     "data": {
      "text/html": [
       "<style>\n",
       ".dl-inline {width: auto; margin:0; padding: 0}\n",
       ".dl-inline>dt, .dl-inline>dd {float: none; width: auto; display: inline-block}\n",
       ".dl-inline>dt::after {content: \":\\0020\"; padding-right: .5ex}\n",
       ".dl-inline>dt:not(:first-of-type) {padding-left: .5ex}\n",
       "</style><dl class=dl-inline><dt>Area</dt><dd>0</dd><dt>MajorAxisLength</dt><dd>0</dd><dt>MinorAxisLength</dt><dd>0</dd><dt>Eccentricity</dt><dd>0</dd><dt>ConvexArea</dt><dd>0</dd><dt>Extent</dt><dd>0</dd><dt>Perimeter</dt><dd>0</dd><dt>Class</dt><dd>0</dd></dl>\n"
      ],
      "text/latex": [
       "\\begin{description*}\n",
       "\\item[Area] 0\n",
       "\\item[MajorAxisLength] 0\n",
       "\\item[MinorAxisLength] 0\n",
       "\\item[Eccentricity] 0\n",
       "\\item[ConvexArea] 0\n",
       "\\item[Extent] 0\n",
       "\\item[Perimeter] 0\n",
       "\\item[Class] 0\n",
       "\\end{description*}\n"
      ],
      "text/markdown": [
       "Area\n",
       ":   0MajorAxisLength\n",
       ":   0MinorAxisLength\n",
       ":   0Eccentricity\n",
       ":   0ConvexArea\n",
       ":   0Extent\n",
       ":   0Perimeter\n",
       ":   0Class\n",
       ":   0\n",
       "\n"
      ],
      "text/plain": [
       "           Area MajorAxisLength MinorAxisLength    Eccentricity      ConvexArea \n",
       "              0               0               0               0               0 \n",
       "         Extent       Perimeter           Class \n",
       "              0               0               0 "
      ]
     },
     "metadata": {},
     "output_type": "display_data"
    }
   ],
   "source": [
    "#c) counting how many rows have missing data. \n",
    "num_of_na <- colSums(is.na(raisin_data))\n",
    "\n",
    "num_of_na"
   ]
  },
  {
   "cell_type": "markdown",
   "metadata": {},
   "source": [
    "#### 4. Visualizing the data with at least one plot relevant to the analysis"
   ]
  },
  {
   "cell_type": "code",
   "execution_count": 68,
   "metadata": {},
   "outputs": [],
   "source": [
    "#a) comparing the distributions of each of the predictor variables"
   ]
  },
  {
   "cell_type": "markdown",
   "metadata": {},
   "source": [
    "## Methods:\n",
    "\n",
    "#### 1. Process of data analysis"
   ]
  },
  {
   "cell_type": "markdown",
   "metadata": {},
   "source": [
    "The process of Raisin data analysis uses classification to predict if the test data are either Kecimen or Besni raisin. "
   ]
  },
  {
   "cell_type": "markdown",
   "metadata": {},
   "source": [
    "#### 2. Variables/columns to use "
   ]
  },
  {
   "cell_type": "markdown",
   "metadata": {},
   "source": [
    "This project used forward selection method to find the accuracy rates for different combinations of predictors and visualized them. "
   ]
  },
  {
   "cell_type": "code",
   "execution_count": 69,
   "metadata": {},
   "outputs": [],
   "source": [
    "set.seed(5805)\n",
    "raisin_split <- initial_split(raisin_data, prop = 0.75 ,strata = Class)\n",
    "raisin_training <- training(raisin_split)\n",
    "raisin_testing <- testing(raisin_split)\n",
    "\n",
    "raisin_subset <- raisin_training %>%\n",
    "  select(Area,\n",
    "         MajorAxisLength, \n",
    "         MinorAxisLength, \n",
    "         Eccentricity, \n",
    "         ConvexArea, \n",
    "         Extent, \n",
    "         Perimeter, \n",
    "         Class)\n",
    "\n",
    "names <- colnames(select(raisin_subset, -Class))"
   ]
  },
  {
   "cell_type": "code",
   "execution_count": 70,
   "metadata": {},
   "outputs": [],
   "source": [
    "# creating an empty tibble which will store the accuracy results\n",
    "accuracies <- tibble(size = integer(), \n",
    "                     model_string = character(), \n",
    "                     accuracy = numeric())"
   ]
  },
  {
   "cell_type": "code",
   "execution_count": 71,
   "metadata": {},
   "outputs": [],
   "source": [
    "# create a model \n",
    "knn_spec <- nearest_neighbor(weight_func = \"rectangular\", \n",
    "                             neighbors = tune()) %>%\n",
    "     set_engine(\"kknn\") %>%\n",
    "     set_mode(\"classification\")"
   ]
  },
  {
   "cell_type": "code",
   "execution_count": 72,
   "metadata": {},
   "outputs": [],
   "source": [
    "set.seed(5805)\n",
    "# 5-fold cross-validation\n",
    "raisin_vfold <- vfold_cv(raisin_subset, v = 5, strata = Class)\n",
    "\n",
    "# total # of predictors\n",
    "n_total <- length(names)\n",
    "\n",
    "# creating to store selected predictors\n",
    "selected <- c()"
   ]
  },
  {
   "cell_type": "code",
   "execution_count": 73,
   "metadata": {},
   "outputs": [
    {
     "data": {
      "text/html": [
       "<table>\n",
       "<caption>A tibble: 7 × 3</caption>\n",
       "<thead>\n",
       "\t<tr><th scope=col>size</th><th scope=col>model_string</th><th scope=col>accuracy</th></tr>\n",
       "\t<tr><th scope=col>&lt;int&gt;</th><th scope=col>&lt;chr&gt;</th><th scope=col>&lt;dbl&gt;</th></tr>\n",
       "</thead>\n",
       "<tbody>\n",
       "\t<tr><td>1</td><td>Class ~ Perimeter                                                                    </td><td>0.8507902</td></tr>\n",
       "\t<tr><td>2</td><td>Class ~ Perimeter+Area                                                               </td><td>0.8597015</td></tr>\n",
       "\t<tr><td>3</td><td>Class ~ Perimeter+Area+MajorAxisLength                                               </td><td>0.8611501</td></tr>\n",
       "\t<tr><td>4</td><td>Class ~ Perimeter+Area+MajorAxisLength+ConvexArea                                    </td><td>0.8611282</td></tr>\n",
       "\t<tr><td>5</td><td>Class ~ Perimeter+Area+MajorAxisLength+ConvexArea+Eccentricity                       </td><td>0.8654741</td></tr>\n",
       "\t<tr><td>6</td><td>Class ~ Perimeter+Area+MajorAxisLength+ConvexArea+Eccentricity+Extent                </td><td>0.8640474</td></tr>\n",
       "\t<tr><td>7</td><td>Class ~ Perimeter+Area+MajorAxisLength+ConvexArea+Eccentricity+Extent+MinorAxisLength</td><td>0.8581870</td></tr>\n",
       "</tbody>\n",
       "</table>\n"
      ],
      "text/latex": [
       "A tibble: 7 × 3\n",
       "\\begin{tabular}{lll}\n",
       " size & model\\_string & accuracy\\\\\n",
       " <int> & <chr> & <dbl>\\\\\n",
       "\\hline\n",
       "\t 1 & Class \\textasciitilde{} Perimeter                                                                     & 0.8507902\\\\\n",
       "\t 2 & Class \\textasciitilde{} Perimeter+Area                                                                & 0.8597015\\\\\n",
       "\t 3 & Class \\textasciitilde{} Perimeter+Area+MajorAxisLength                                                & 0.8611501\\\\\n",
       "\t 4 & Class \\textasciitilde{} Perimeter+Area+MajorAxisLength+ConvexArea                                     & 0.8611282\\\\\n",
       "\t 5 & Class \\textasciitilde{} Perimeter+Area+MajorAxisLength+ConvexArea+Eccentricity                        & 0.8654741\\\\\n",
       "\t 6 & Class \\textasciitilde{} Perimeter+Area+MajorAxisLength+ConvexArea+Eccentricity+Extent                 & 0.8640474\\\\\n",
       "\t 7 & Class \\textasciitilde{} Perimeter+Area+MajorAxisLength+ConvexArea+Eccentricity+Extent+MinorAxisLength & 0.8581870\\\\\n",
       "\\end{tabular}\n"
      ],
      "text/markdown": [
       "\n",
       "A tibble: 7 × 3\n",
       "\n",
       "| size &lt;int&gt; | model_string &lt;chr&gt; | accuracy &lt;dbl&gt; |\n",
       "|---|---|---|\n",
       "| 1 | Class ~ Perimeter                                                                     | 0.8507902 |\n",
       "| 2 | Class ~ Perimeter+Area                                                                | 0.8597015 |\n",
       "| 3 | Class ~ Perimeter+Area+MajorAxisLength                                                | 0.8611501 |\n",
       "| 4 | Class ~ Perimeter+Area+MajorAxisLength+ConvexArea                                     | 0.8611282 |\n",
       "| 5 | Class ~ Perimeter+Area+MajorAxisLength+ConvexArea+Eccentricity                        | 0.8654741 |\n",
       "| 6 | Class ~ Perimeter+Area+MajorAxisLength+ConvexArea+Eccentricity+Extent                 | 0.8640474 |\n",
       "| 7 | Class ~ Perimeter+Area+MajorAxisLength+ConvexArea+Eccentricity+Extent+MinorAxisLength | 0.8581870 |\n",
       "\n"
      ],
      "text/plain": [
       "  size\n",
       "1 1   \n",
       "2 2   \n",
       "3 3   \n",
       "4 4   \n",
       "5 5   \n",
       "6 6   \n",
       "7 7   \n",
       "  model_string                                                                         \n",
       "1 Class ~ Perimeter                                                                    \n",
       "2 Class ~ Perimeter+Area                                                               \n",
       "3 Class ~ Perimeter+Area+MajorAxisLength                                               \n",
       "4 Class ~ Perimeter+Area+MajorAxisLength+ConvexArea                                    \n",
       "5 Class ~ Perimeter+Area+MajorAxisLength+ConvexArea+Eccentricity                       \n",
       "6 Class ~ Perimeter+Area+MajorAxisLength+ConvexArea+Eccentricity+Extent                \n",
       "7 Class ~ Perimeter+Area+MajorAxisLength+ConvexArea+Eccentricity+Extent+MinorAxisLength\n",
       "  accuracy \n",
       "1 0.8507902\n",
       "2 0.8597015\n",
       "3 0.8611501\n",
       "4 0.8611282\n",
       "5 0.8654741\n",
       "6 0.8640474\n",
       "7 0.8581870"
      ]
     },
     "metadata": {},
     "output_type": "display_data"
    }
   ],
   "source": [
    "set.seed(5805)\n",
    "#loops to try all the models\n",
    "# for every size from 1 to the total number of predictors\n",
    "for (i in 1:n_total) {\n",
    "    # for every predictor still not added yet\n",
    "    accs <- list()\n",
    "    models <- list()\n",
    "\n",
    "#inner loop for model string for different combinations of predictors\n",
    "    for (j in 1:length(names)) {\n",
    "        # create a model string for the combinations of predictors\n",
    "        preds_new <- c(selected, names[[j]])\n",
    "        model_string <- paste(\"Class\", \"~\", paste(preds_new, collapse=\"+\"))\n",
    "        \n",
    "# created a recipe from the model string\n",
    "        raisin_recipe <- recipe(as.formula(model_string), \n",
    "                                data = raisin_subset) %>%\n",
    "                          step_scale(all_predictors()) %>%\n",
    "                          step_center(all_predictors())\n",
    "        \n",
    "# tune the KNN classifier with these predictors, \n",
    "# and collect the accuracy for the best K\n",
    "        acc <- workflow() %>%\n",
    "          add_recipe(raisin_recipe) %>%\n",
    "          add_model(knn_spec) %>%\n",
    "          tune_grid(resamples = raisin_vfold, grid = 10) %>%\n",
    "          collect_metrics() %>%\n",
    "          filter(.metric == \"accuracy\") %>%\n",
    "          summarize(mx = max(mean))\n",
    "        acc <- acc$mx %>% unlist()\n",
    "\n",
    "# add this result to the dataframe\n",
    "        accs[[j]] <- acc\n",
    "        models[[j]] <- model_string\n",
    "    }\n",
    "    jstar <- which.max(unlist(accs))\n",
    "        accuracies <- accuracies %>% \n",
    "          add_row(size = i, \n",
    "                  model_string = models[[jstar]], \n",
    "                  accuracy = accs[[jstar]])\n",
    "        selected <- c(selected, names[[jstar]])\n",
    "        names <- names[-jstar]\n",
    "}\n",
    "accuracies"
   ]
  },
  {
   "cell_type": "markdown",
   "metadata": {},
   "source": [
    "#### 3.Describing at least one way to visualize the results"
   ]
  },
  {
   "cell_type": "markdown",
   "metadata": {},
   "source": [
    "Below is the visualization of how estimated accuracy changes as number of predictors changes."
   ]
  },
  {
   "cell_type": "code",
   "execution_count": 74,
   "metadata": {},
   "outputs": [
    {
     "data": {
      "image/png": "[encoded data removed]",
      "text/plain": [
       "plot without title"
      ]
     },
     "metadata": {
      "image/png": {
       "height": 480,
       "width": 480
      }
     },
     "output_type": "display_data"
    }
   ],
   "source": [
    "options(repr.plot.width = 8, repr.plot.height = 8)\n",
    "\n",
    "accuracies_plot <- ggplot(accuracies, aes(x = size, y = accuracy)) +\n",
    "    geom_point() +\n",
    "    geom_line() +\n",
    "    labs(x = \"Number of Predictors\", y = \"Estimated Accuracy\", title = \"Number of Predictors vs Estimated \n",
    "Accuracy of Raisin Data\") +\n",
    "    theme(text = element_text(size = 20))\n",
    "\n",
    "accuracies_plot"
   ]
  },
  {
   "cell_type": "code",
   "execution_count": null,
   "metadata": {},
   "outputs": [],
   "source": []
  }
 ],
 "metadata": {
  "kernelspec": {
   "display_name": "R",
   "language": "R",
   "name": "ir"
  },
  "language_info": {
   "codemirror_mode": "r",
   "file_extension": ".r",
   "mimetype": "text/x-r-source",
   "name": "R",
   "pygments_lexer": "r",
   "version": "4.0.0"
  }
 },
 "nbformat": 4,
 "nbformat_minor": 4
}
