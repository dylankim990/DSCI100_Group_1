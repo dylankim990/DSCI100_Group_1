{
 "cells": [
  {
   "cell_type": "markdown",
   "metadata": {},
   "source": [
    "Title: "
   ]
  },
  {
   "cell_type": "markdown",
   "metadata": {},
   "source": [
    "Introduction: "
   ]
  },
  {
   "cell_type": "code",
   "execution_count": 27,
   "metadata": {},
   "outputs": [],
   "source": [
    "library(tidyverse)\n",
    "library(tidymodels)\n",
    "library(readxl)"
   ]
  },
  {
   "cell_type": "markdown",
   "metadata": {},
   "source": [
    "Preliminary exploratory data analysis:\n",
    "\n",
    "1. Demonstrate that the dataset can be read from the web into R "
   ]
  },
  {
   "cell_type": "code",
   "execution_count": 22,
   "metadata": {},
   "outputs": [],
   "source": [
    "raisin_data <- read_excel(path = \"data/Raisin_Dataset.xlsx\")"
   ]
  },
  {
   "cell_type": "markdown",
   "metadata": {},
   "source": [
    "2. Clean and wrangle your data into a tidy format was not neccesary since they were in a tidy format"
   ]
  },
  {
   "cell_type": "code",
   "execution_count": 24,
   "metadata": {},
   "outputs": [
    {
     "name": "stdout",
     "output_type": "stream",
     "text": [
      "Rows: 900\n",
      "Columns: 8\n",
      "$ Area            \u001b[3m\u001b[90m<dbl>\u001b[39m\u001b[23m 87524, 75166, 90856, 45928, 79408, 49242, 42492, 6095…\n",
      "$ MajorAxisLength \u001b[3m\u001b[90m<dbl>\u001b[39m\u001b[23m 442.2460, 406.6907, 442.2670, 286.5406, 352.1908, 318…\n",
      "$ MinorAxisLength \u001b[3m\u001b[90m<dbl>\u001b[39m\u001b[23m 253.2912, 243.0324, 266.3283, 208.7600, 290.8275, 200…\n",
      "$ Eccentricity    \u001b[3m\u001b[90m<dbl>\u001b[39m\u001b[23m 0.8197384, 0.8018052, 0.7983536, 0.6849892, 0.5640113…\n",
      "$ ConvexArea      \u001b[3m\u001b[90m<dbl>\u001b[39m\u001b[23m 90546, 78789, 93717, 47336, 81463, 51368, 43904, 6232…\n",
      "$ Extent          \u001b[3m\u001b[90m<dbl>\u001b[39m\u001b[23m 0.7586506, 0.6841296, 0.6376128, 0.6995994, 0.7927719…\n",
      "$ Perimeter       \u001b[3m\u001b[90m<dbl>\u001b[39m\u001b[23m 1184.040, 1121.786, 1208.575, 844.162, 1073.251, 881.…\n",
      "$ Class           \u001b[3m\u001b[90m<chr>\u001b[39m\u001b[23m \"Kecimen\", \"Kecimen\", \"Kecimen\", \"Kecimen\", \"Kecimen\"…\n"
     ]
    }
   ],
   "source": [
    "glimpse(raisin_data)"
   ]
  },
  {
   "cell_type": "markdown",
   "metadata": {},
   "source": [
    "3. Summarizing the data in at least one table"
   ]
  },
  {
   "cell_type": "code",
   "execution_count": 17,
   "metadata": {},
   "outputs": [],
   "source": [
    "#a) the number of observations in each class\n"
   ]
  },
  {
   "cell_type": "code",
   "execution_count": 18,
   "metadata": {},
   "outputs": [],
   "source": [
    "#b) the means of the predictor variables you plan to use in your analysis"
   ]
  },
  {
   "cell_type": "code",
   "execution_count": 19,
   "metadata": {},
   "outputs": [],
   "source": [
    "#c) counting how many rows have missing data. "
   ]
  },
  {
   "cell_type": "markdown",
   "metadata": {},
   "source": [
    "4. Visualizing the data with at least one plot relevant to the analysis"
   ]
  },
  {
   "cell_type": "code",
   "execution_count": 28,
   "metadata": {},
   "outputs": [],
   "source": [
    "#a) comparing the distributions of each of the predictor variables"
   ]
  },
  {
   "cell_type": "markdown",
   "metadata": {},
   "source": [
    "Methods:\n",
    "1. Process of data analysis"
   ]
  },
  {
   "cell_type": "markdown",
   "metadata": {},
   "source": [
    "process"
   ]
  },
  {
   "cell_type": "markdown",
   "metadata": {},
   "source": [
    "2. Variables/columns to use "
   ]
  },
  {
   "cell_type": "markdown",
   "metadata": {},
   "source": [
    "For each variable think: is this a useful variable for prediction?"
   ]
  },
  {
   "cell_type": "markdown",
   "metadata": {},
   "source": [
    "3. Describing at least one way to visualize the results"
   ]
  },
  {
   "cell_type": "markdown",
   "metadata": {},
   "source": [
    "visualization"
   ]
  },
  {
   "cell_type": "code",
   "execution_count": null,
   "metadata": {},
   "outputs": [],
   "source": []
  }
 ],
 "metadata": {
  "kernelspec": {
   "display_name": "R",
   "language": "R",
   "name": "ir"
  },
  "language_info": {
   "codemirror_mode": "r",
   "file_extension": ".r",
   "mimetype": "text/x-r-source",
   "name": "R",
   "pygments_lexer": "r",
   "version": "4.0.0"
  }
 },
 "nbformat": 4,
 "nbformat_minor": 4
}
