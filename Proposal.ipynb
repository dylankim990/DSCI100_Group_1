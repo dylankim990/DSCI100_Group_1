{
 "cells": [
  {
   "cell_type": "markdown",
   "metadata": {},
   "source": [
    "Title: "
   ]
  },
  {
   "cell_type": "markdown",
   "metadata": {},
   "source": [
    "Introduction: "
   ]
  },
  {
   "cell_type": "code",
   "execution_count": 1,
   "metadata": {},
   "outputs": [
    {
     "name": "stderr",
     "output_type": "stream",
     "text": [
      "── \u001b[1mAttaching packages\u001b[22m ─────────────────────────────────────── tidyverse 1.3.0 ──\n",
      "\n",
      "\u001b[32m✔\u001b[39m \u001b[34mggplot2\u001b[39m 3.3.2     \u001b[32m✔\u001b[39m \u001b[34mpurrr  \u001b[39m 0.3.4\n",
      "\u001b[32m✔\u001b[39m \u001b[34mtibble \u001b[39m 3.0.3     \u001b[32m✔\u001b[39m \u001b[34mdplyr  \u001b[39m 1.0.2\n",
      "\u001b[32m✔\u001b[39m \u001b[34mtidyr  \u001b[39m 1.1.2     \u001b[32m✔\u001b[39m \u001b[34mstringr\u001b[39m 1.4.0\n",
      "\u001b[32m✔\u001b[39m \u001b[34mreadr  \u001b[39m 1.3.1     \u001b[32m✔\u001b[39m \u001b[34mforcats\u001b[39m 0.5.0\n",
      "\n",
      "Warning message:\n",
      "“package ‘ggplot2’ was built under R version 4.0.1”\n",
      "Warning message:\n",
      "“package ‘tibble’ was built under R version 4.0.2”\n",
      "Warning message:\n",
      "“package ‘tidyr’ was built under R version 4.0.2”\n",
      "Warning message:\n",
      "“package ‘dplyr’ was built under R version 4.0.2”\n",
      "── \u001b[1mConflicts\u001b[22m ────────────────────────────────────────── tidyverse_conflicts() ──\n",
      "\u001b[31m✖\u001b[39m \u001b[34mdplyr\u001b[39m::\u001b[32mfilter()\u001b[39m masks \u001b[34mstats\u001b[39m::filter()\n",
      "\u001b[31m✖\u001b[39m \u001b[34mdplyr\u001b[39m::\u001b[32mlag()\u001b[39m    masks \u001b[34mstats\u001b[39m::lag()\n",
      "\n",
      "Warning message:\n",
      "“package ‘tidymodels’ was built under R version 4.0.2”\n",
      "── \u001b[1mAttaching packages\u001b[22m ────────────────────────────────────── tidymodels 0.1.1 ──\n",
      "\n",
      "\u001b[32m✔\u001b[39m \u001b[34mbroom    \u001b[39m 0.7.0      \u001b[32m✔\u001b[39m \u001b[34mrecipes  \u001b[39m 0.1.13\n",
      "\u001b[32m✔\u001b[39m \u001b[34mdials    \u001b[39m 0.0.9      \u001b[32m✔\u001b[39m \u001b[34mrsample  \u001b[39m 0.0.7 \n",
      "\u001b[32m✔\u001b[39m \u001b[34minfer    \u001b[39m 0.5.4      \u001b[32m✔\u001b[39m \u001b[34mtune     \u001b[39m 0.1.1 \n",
      "\u001b[32m✔\u001b[39m \u001b[34mmodeldata\u001b[39m 0.0.2      \u001b[32m✔\u001b[39m \u001b[34mworkflows\u001b[39m 0.2.0 \n",
      "\u001b[32m✔\u001b[39m \u001b[34mparsnip  \u001b[39m 0.1.3      \u001b[32m✔\u001b[39m \u001b[34myardstick\u001b[39m 0.0.7 \n",
      "\n",
      "Warning message:\n",
      "“package ‘broom’ was built under R version 4.0.2”\n",
      "Warning message:\n",
      "“package ‘dials’ was built under R version 4.0.2”\n",
      "Warning message:\n",
      "“package ‘infer’ was built under R version 4.0.3”\n",
      "Warning message:\n",
      "“package ‘modeldata’ was built under R version 4.0.1”\n",
      "Warning message:\n",
      "“package ‘parsnip’ was built under R version 4.0.2”\n",
      "Warning message:\n",
      "“package ‘recipes’ was built under R version 4.0.1”\n",
      "Warning message:\n",
      "“package ‘tune’ was built under R version 4.0.2”\n",
      "Warning message:\n",
      "“package ‘workflows’ was built under R version 4.0.2”\n",
      "Warning message:\n",
      "“package ‘yardstick’ was built under R version 4.0.2”\n",
      "── \u001b[1mConflicts\u001b[22m ───────────────────────────────────────── tidymodels_conflicts() ──\n",
      "\u001b[31m✖\u001b[39m \u001b[34mscales\u001b[39m::\u001b[32mdiscard()\u001b[39m masks \u001b[34mpurrr\u001b[39m::discard()\n",
      "\u001b[31m✖\u001b[39m \u001b[34mdplyr\u001b[39m::\u001b[32mfilter()\u001b[39m   masks \u001b[34mstats\u001b[39m::filter()\n",
      "\u001b[31m✖\u001b[39m \u001b[34mrecipes\u001b[39m::\u001b[32mfixed()\u001b[39m  masks \u001b[34mstringr\u001b[39m::fixed()\n",
      "\u001b[31m✖\u001b[39m \u001b[34mdplyr\u001b[39m::\u001b[32mlag()\u001b[39m      masks \u001b[34mstats\u001b[39m::lag()\n",
      "\u001b[31m✖\u001b[39m \u001b[34myardstick\u001b[39m::\u001b[32mspec()\u001b[39m masks \u001b[34mreadr\u001b[39m::spec()\n",
      "\u001b[31m✖\u001b[39m \u001b[34mrecipes\u001b[39m::\u001b[32mstep()\u001b[39m   masks \u001b[34mstats\u001b[39m::step()\n",
      "\n"
     ]
    }
   ],
   "source": [
    "library(tidyverse)\n",
    "library(tidymodels)\n",
    "library(readxl)"
   ]
  },
  {
   "cell_type": "markdown",
   "metadata": {},
   "source": [
    "Preliminary exploratory data analysis:\n",
    "\n",
    "1. Demonstrate that the dataset can be read from the web into R "
   ]
  },
  {
   "cell_type": "code",
   "execution_count": 2,
   "metadata": {},
   "outputs": [
    {
     "name": "stderr",
     "output_type": "stream",
     "text": [
      "Parsed with column specification:\n",
      "cols(\n",
      "  Area = \u001b[32mcol_double()\u001b[39m,\n",
      "  MajorAxisLength = \u001b[32mcol_double()\u001b[39m,\n",
      "  MinorAxisLength = \u001b[32mcol_double()\u001b[39m,\n",
      "  Eccentricity = \u001b[32mcol_double()\u001b[39m,\n",
      "  ConvexArea = \u001b[32mcol_double()\u001b[39m,\n",
      "  Extent = \u001b[32mcol_double()\u001b[39m,\n",
      "  Perimeter = \u001b[32mcol_double()\u001b[39m,\n",
      "  Class = \u001b[31mcol_character()\u001b[39m\n",
      ")\n",
      "\n"
     ]
    }
   ],
   "source": [
    "raisin_data <- read_csv(\"https://github.com/dylankim990/DSCI100_Group_2/raw/main/data/Raisin_Dataset.csv\")"
   ]
  },
  {
   "cell_type": "markdown",
   "metadata": {},
   "source": [
    "2. Clean and wrangle your data into a tidy format"
   ]
  },
  {
   "cell_type": "code",
   "execution_count": 3,
   "metadata": {},
   "outputs": [
    {
     "name": "stdout",
     "output_type": "stream",
     "text": [
      "Rows: 900\n",
      "Columns: 8\n",
      "$ Area            \u001b[3m\u001b[90m<dbl>\u001b[39m\u001b[23m 87524, 75166, 90856, 45928, 79408, 49242, 42492, 6095…\n",
      "$ MajorAxisLength \u001b[3m\u001b[90m<dbl>\u001b[39m\u001b[23m 442.2460, 406.6907, 442.2670, 286.5406, 352.1908, 318…\n",
      "$ MinorAxisLength \u001b[3m\u001b[90m<dbl>\u001b[39m\u001b[23m 253.2912, 243.0324, 266.3283, 208.7600, 290.8275, 200…\n",
      "$ Eccentricity    \u001b[3m\u001b[90m<dbl>\u001b[39m\u001b[23m 0.8197384, 0.8018052, 0.7983536, 0.6849892, 0.5640113…\n",
      "$ ConvexArea      \u001b[3m\u001b[90m<dbl>\u001b[39m\u001b[23m 90546, 78789, 93717, 47336, 81463, 51368, 43904, 6232…\n",
      "$ Extent          \u001b[3m\u001b[90m<dbl>\u001b[39m\u001b[23m 0.7586506, 0.6841296, 0.6376128, 0.6995994, 0.7927719…\n",
      "$ Perimeter       \u001b[3m\u001b[90m<dbl>\u001b[39m\u001b[23m 1184.040, 1121.786, 1208.575, 844.162, 1073.251, 881.…\n",
      "$ Class           \u001b[3m\u001b[90m<chr>\u001b[39m\u001b[23m \"Kecimen\", \"Kecimen\", \"Kecimen\", \"Kecimen\", \"Kecimen\"…\n"
     ]
    },
    {
     "data": {
      "text/html": [
       "<table>\n",
       "<caption>A tibble: 6 × 8</caption>\n",
       "<thead>\n",
       "\t<tr><th scope=col>Area</th><th scope=col>MajorAxisLength</th><th scope=col>MinorAxisLength</th><th scope=col>Eccentricity</th><th scope=col>ConvexArea</th><th scope=col>Extent</th><th scope=col>Perimeter</th><th scope=col>Class</th></tr>\n",
       "\t<tr><th scope=col>&lt;dbl&gt;</th><th scope=col>&lt;dbl&gt;</th><th scope=col>&lt;dbl&gt;</th><th scope=col>&lt;dbl&gt;</th><th scope=col>&lt;dbl&gt;</th><th scope=col>&lt;dbl&gt;</th><th scope=col>&lt;dbl&gt;</th><th scope=col>&lt;chr&gt;</th></tr>\n",
       "</thead>\n",
       "<tbody>\n",
       "\t<tr><td>87524</td><td>442.2460</td><td>253.2912</td><td>0.8197384</td><td>90546</td><td>0.7586506</td><td>1184.040</td><td>Kecimen</td></tr>\n",
       "\t<tr><td>75166</td><td>406.6907</td><td>243.0324</td><td>0.8018052</td><td>78789</td><td>0.6841296</td><td>1121.786</td><td>Kecimen</td></tr>\n",
       "\t<tr><td>90856</td><td>442.2670</td><td>266.3283</td><td>0.7983536</td><td>93717</td><td>0.6376128</td><td>1208.575</td><td>Kecimen</td></tr>\n",
       "\t<tr><td>45928</td><td>286.5406</td><td>208.7600</td><td>0.6849892</td><td>47336</td><td>0.6995994</td><td> 844.162</td><td>Kecimen</td></tr>\n",
       "\t<tr><td>79408</td><td>352.1908</td><td>290.8275</td><td>0.5640113</td><td>81463</td><td>0.7927719</td><td>1073.251</td><td>Kecimen</td></tr>\n",
       "\t<tr><td>49242</td><td>318.1254</td><td>200.1221</td><td>0.7773513</td><td>51368</td><td>0.6584564</td><td> 881.836</td><td>Kecimen</td></tr>\n",
       "</tbody>\n",
       "</table>\n"
      ],
      "text/latex": [
       "A tibble: 6 × 8\n",
       "\\begin{tabular}{llllllll}\n",
       " Area & MajorAxisLength & MinorAxisLength & Eccentricity & ConvexArea & Extent & Perimeter & Class\\\\\n",
       " <dbl> & <dbl> & <dbl> & <dbl> & <dbl> & <dbl> & <dbl> & <chr>\\\\\n",
       "\\hline\n",
       "\t 87524 & 442.2460 & 253.2912 & 0.8197384 & 90546 & 0.7586506 & 1184.040 & Kecimen\\\\\n",
       "\t 75166 & 406.6907 & 243.0324 & 0.8018052 & 78789 & 0.6841296 & 1121.786 & Kecimen\\\\\n",
       "\t 90856 & 442.2670 & 266.3283 & 0.7983536 & 93717 & 0.6376128 & 1208.575 & Kecimen\\\\\n",
       "\t 45928 & 286.5406 & 208.7600 & 0.6849892 & 47336 & 0.6995994 &  844.162 & Kecimen\\\\\n",
       "\t 79408 & 352.1908 & 290.8275 & 0.5640113 & 81463 & 0.7927719 & 1073.251 & Kecimen\\\\\n",
       "\t 49242 & 318.1254 & 200.1221 & 0.7773513 & 51368 & 0.6584564 &  881.836 & Kecimen\\\\\n",
       "\\end{tabular}\n"
      ],
      "text/markdown": [
       "\n",
       "A tibble: 6 × 8\n",
       "\n",
       "| Area &lt;dbl&gt; | MajorAxisLength &lt;dbl&gt; | MinorAxisLength &lt;dbl&gt; | Eccentricity &lt;dbl&gt; | ConvexArea &lt;dbl&gt; | Extent &lt;dbl&gt; | Perimeter &lt;dbl&gt; | Class &lt;chr&gt; |\n",
       "|---|---|---|---|---|---|---|---|\n",
       "| 87524 | 442.2460 | 253.2912 | 0.8197384 | 90546 | 0.7586506 | 1184.040 | Kecimen |\n",
       "| 75166 | 406.6907 | 243.0324 | 0.8018052 | 78789 | 0.6841296 | 1121.786 | Kecimen |\n",
       "| 90856 | 442.2670 | 266.3283 | 0.7983536 | 93717 | 0.6376128 | 1208.575 | Kecimen |\n",
       "| 45928 | 286.5406 | 208.7600 | 0.6849892 | 47336 | 0.6995994 |  844.162 | Kecimen |\n",
       "| 79408 | 352.1908 | 290.8275 | 0.5640113 | 81463 | 0.7927719 | 1073.251 | Kecimen |\n",
       "| 49242 | 318.1254 | 200.1221 | 0.7773513 | 51368 | 0.6584564 |  881.836 | Kecimen |\n",
       "\n"
      ],
      "text/plain": [
       "  Area  MajorAxisLength MinorAxisLength Eccentricity ConvexArea Extent   \n",
       "1 87524 442.2460        253.2912        0.8197384    90546      0.7586506\n",
       "2 75166 406.6907        243.0324        0.8018052    78789      0.6841296\n",
       "3 90856 442.2670        266.3283        0.7983536    93717      0.6376128\n",
       "4 45928 286.5406        208.7600        0.6849892    47336      0.6995994\n",
       "5 79408 352.1908        290.8275        0.5640113    81463      0.7927719\n",
       "6 49242 318.1254        200.1221        0.7773513    51368      0.6584564\n",
       "  Perimeter Class  \n",
       "1 1184.040  Kecimen\n",
       "2 1121.786  Kecimen\n",
       "3 1208.575  Kecimen\n",
       "4  844.162  Kecimen\n",
       "5 1073.251  Kecimen\n",
       "6  881.836  Kecimen"
      ]
     },
     "metadata": {},
     "output_type": "display_data"
    }
   ],
   "source": [
    "# tidying was not neccesary since they were in a tidy format\n",
    "glimpse(raisin_data)\n",
    "head(raisin_data)"
   ]
  },
  {
   "cell_type": "markdown",
   "metadata": {},
   "source": [
    "3. Summarizing the data in at least one table"
   ]
  },
  {
   "cell_type": "code",
   "execution_count": 4,
   "metadata": {},
   "outputs": [
    {
     "name": "stderr",
     "output_type": "stream",
     "text": [
      "`summarise()` ungrouping output (override with `.groups` argument)\n",
      "\n"
     ]
    },
    {
     "data": {
      "text/html": [
       "<table>\n",
       "<caption>A tibble: 2 × 2</caption>\n",
       "<thead>\n",
       "\t<tr><th scope=col>Class</th><th scope=col>num_obs</th></tr>\n",
       "\t<tr><th scope=col>&lt;chr&gt;</th><th scope=col>&lt;int&gt;</th></tr>\n",
       "</thead>\n",
       "<tbody>\n",
       "\t<tr><td>Besni  </td><td>450</td></tr>\n",
       "\t<tr><td>Kecimen</td><td>450</td></tr>\n",
       "</tbody>\n",
       "</table>\n"
      ],
      "text/latex": [
       "A tibble: 2 × 2\n",
       "\\begin{tabular}{ll}\n",
       " Class & num\\_obs\\\\\n",
       " <chr> & <int>\\\\\n",
       "\\hline\n",
       "\t Besni   & 450\\\\\n",
       "\t Kecimen & 450\\\\\n",
       "\\end{tabular}\n"
      ],
      "text/markdown": [
       "\n",
       "A tibble: 2 × 2\n",
       "\n",
       "| Class &lt;chr&gt; | num_obs &lt;int&gt; |\n",
       "|---|---|\n",
       "| Besni   | 450 |\n",
       "| Kecimen | 450 |\n",
       "\n"
      ],
      "text/plain": [
       "  Class   num_obs\n",
       "1 Besni   450    \n",
       "2 Kecimen 450    "
      ]
     },
     "metadata": {},
     "output_type": "display_data"
    }
   ],
   "source": [
    "#a) the number of observations in each class\n",
    "obs_num_class <- raisin_data %>%\n",
    "    group_by(Class) %>%\n",
    "    summarize(num_obs = n())\n",
    "\n",
    "obs_num_class"
   ]
  },
  {
   "cell_type": "code",
   "execution_count": 5,
   "metadata": {},
   "outputs": [
    {
     "data": {
      "text/html": [
       "<table>\n",
       "<caption>A tibble: 1 × 7</caption>\n",
       "<thead>\n",
       "\t<tr><th scope=col>Area</th><th scope=col>MajorAxisLength</th><th scope=col>MinorAxisLength</th><th scope=col>Eccentricity</th><th scope=col>ConvexArea</th><th scope=col>Extent</th><th scope=col>Perimeter</th></tr>\n",
       "\t<tr><th scope=col>&lt;dbl&gt;</th><th scope=col>&lt;dbl&gt;</th><th scope=col>&lt;dbl&gt;</th><th scope=col>&lt;dbl&gt;</th><th scope=col>&lt;dbl&gt;</th><th scope=col>&lt;dbl&gt;</th><th scope=col>&lt;dbl&gt;</th></tr>\n",
       "</thead>\n",
       "<tbody>\n",
       "\t<tr><td>87804.13</td><td>430.93</td><td>254.4881</td><td>0.7815422</td><td>91186.09</td><td>0.6995079</td><td>1165.907</td></tr>\n",
       "</tbody>\n",
       "</table>\n"
      ],
      "text/latex": [
       "A tibble: 1 × 7\n",
       "\\begin{tabular}{lllllll}\n",
       " Area & MajorAxisLength & MinorAxisLength & Eccentricity & ConvexArea & Extent & Perimeter\\\\\n",
       " <dbl> & <dbl> & <dbl> & <dbl> & <dbl> & <dbl> & <dbl>\\\\\n",
       "\\hline\n",
       "\t 87804.13 & 430.93 & 254.4881 & 0.7815422 & 91186.09 & 0.6995079 & 1165.907\\\\\n",
       "\\end{tabular}\n"
      ],
      "text/markdown": [
       "\n",
       "A tibble: 1 × 7\n",
       "\n",
       "| Area &lt;dbl&gt; | MajorAxisLength &lt;dbl&gt; | MinorAxisLength &lt;dbl&gt; | Eccentricity &lt;dbl&gt; | ConvexArea &lt;dbl&gt; | Extent &lt;dbl&gt; | Perimeter &lt;dbl&gt; |\n",
       "|---|---|---|---|---|---|---|\n",
       "| 87804.13 | 430.93 | 254.4881 | 0.7815422 | 91186.09 | 0.6995079 | 1165.907 |\n",
       "\n"
      ],
      "text/plain": [
       "  Area     MajorAxisLength MinorAxisLength Eccentricity ConvexArea Extent   \n",
       "1 87804.13 430.93          254.4881        0.7815422    91186.09   0.6995079\n",
       "  Perimeter\n",
       "1 1165.907 "
      ]
     },
     "metadata": {},
     "output_type": "display_data"
    }
   ],
   "source": [
    "#b) the means of the predictor variables you plan to use in your analysis\n",
    "means_predictors <- raisin_data %>%\n",
    "    select(-Class) %>%\n",
    "    map_df(mean)\n",
    "\n",
    "means_predictors    "
   ]
  },
  {
   "cell_type": "code",
   "execution_count": 6,
   "metadata": {},
   "outputs": [
    {
     "data": {
      "text/html": [
       "<style>\n",
       ".dl-inline {width: auto; margin:0; padding: 0}\n",
       ".dl-inline>dt, .dl-inline>dd {float: none; width: auto; display: inline-block}\n",
       ".dl-inline>dt::after {content: \":\\0020\"; padding-right: .5ex}\n",
       ".dl-inline>dt:not(:first-of-type) {padding-left: .5ex}\n",
       "</style><dl class=dl-inline><dt>Area</dt><dd>0</dd><dt>MajorAxisLength</dt><dd>0</dd><dt>MinorAxisLength</dt><dd>0</dd><dt>Eccentricity</dt><dd>0</dd><dt>ConvexArea</dt><dd>0</dd><dt>Extent</dt><dd>0</dd><dt>Perimeter</dt><dd>0</dd><dt>Class</dt><dd>0</dd></dl>\n"
      ],
      "text/latex": [
       "\\begin{description*}\n",
       "\\item[Area] 0\n",
       "\\item[MajorAxisLength] 0\n",
       "\\item[MinorAxisLength] 0\n",
       "\\item[Eccentricity] 0\n",
       "\\item[ConvexArea] 0\n",
       "\\item[Extent] 0\n",
       "\\item[Perimeter] 0\n",
       "\\item[Class] 0\n",
       "\\end{description*}\n"
      ],
      "text/markdown": [
       "Area\n",
       ":   0MajorAxisLength\n",
       ":   0MinorAxisLength\n",
       ":   0Eccentricity\n",
       ":   0ConvexArea\n",
       ":   0Extent\n",
       ":   0Perimeter\n",
       ":   0Class\n",
       ":   0\n",
       "\n"
      ],
      "text/plain": [
       "           Area MajorAxisLength MinorAxisLength    Eccentricity      ConvexArea \n",
       "              0               0               0               0               0 \n",
       "         Extent       Perimeter           Class \n",
       "              0               0               0 "
      ]
     },
     "metadata": {},
     "output_type": "display_data"
    }
   ],
   "source": [
    "#c) counting how many rows have missing data. \n",
    "num_of_na <- colSums(is.na(raisin_data))\n",
    "\n",
    "num_of_na"
   ]
  },
  {
   "cell_type": "markdown",
   "metadata": {},
   "source": [
    "4. Visualizing the data with at least one plot relevant to the analysis"
   ]
  },
  {
   "cell_type": "code",
   "execution_count": 7,
   "metadata": {},
   "outputs": [],
   "source": [
    "#a) comparing the distributions of each of the predictor variables"
   ]
  },
  {
   "cell_type": "markdown",
   "metadata": {},
   "source": [
    "Methods:\n",
    "1. Process of data analysis"
   ]
  },
  {
   "cell_type": "markdown",
   "metadata": {},
   "source": [
    "The process of Raisin data analysis uses classification to predict if the test data are either Kecimen or Besni raisin. "
   ]
  },
  {
   "cell_type": "markdown",
   "metadata": {},
   "source": [
    "2. Variables/columns to use "
   ]
  },
  {
   "cell_type": "markdown",
   "metadata": {},
   "source": [
    "For each variable think: is this a useful variable for prediction?"
   ]
  },
  {
   "cell_type": "code",
   "execution_count": 13,
   "metadata": {},
   "outputs": [
    {
     "data": {
      "text/html": [
       "<table>\n",
       "<caption>A tibble: 676 × 8</caption>\n",
       "<thead>\n",
       "\t<tr><th scope=col>Area</th><th scope=col>MajorAxisLength</th><th scope=col>MinorAxisLength</th><th scope=col>Eccentricity</th><th scope=col>ConvexArea</th><th scope=col>Extent</th><th scope=col>Perimeter</th><th scope=col>Class</th></tr>\n",
       "\t<tr><th scope=col>&lt;dbl&gt;</th><th scope=col>&lt;dbl&gt;</th><th scope=col>&lt;dbl&gt;</th><th scope=col>&lt;dbl&gt;</th><th scope=col>&lt;dbl&gt;</th><th scope=col>&lt;dbl&gt;</th><th scope=col>&lt;dbl&gt;</th><th scope=col>&lt;chr&gt;</th></tr>\n",
       "</thead>\n",
       "<tbody>\n",
       "\t<tr><td>87524</td><td>442.2460</td><td>253.2912</td><td>0.8197384</td><td>90546</td><td>0.7586506</td><td>1184.040</td><td>Kecimen</td></tr>\n",
       "\t<tr><td>75166</td><td>406.6907</td><td>243.0324</td><td>0.8018052</td><td>78789</td><td>0.6841296</td><td>1121.786</td><td>Kecimen</td></tr>\n",
       "\t<tr><td>90856</td><td>442.2670</td><td>266.3283</td><td>0.7983536</td><td>93717</td><td>0.6376128</td><td>1208.575</td><td>Kecimen</td></tr>\n",
       "\t<tr><td>45928</td><td>286.5406</td><td>208.7600</td><td>0.6849892</td><td>47336</td><td>0.6995994</td><td> 844.162</td><td>Kecimen</td></tr>\n",
       "\t<tr><td>79408</td><td>352.1908</td><td>290.8275</td><td>0.5640113</td><td>81463</td><td>0.7927719</td><td>1073.251</td><td>Kecimen</td></tr>\n",
       "\t<tr><td>49242</td><td>318.1254</td><td>200.1221</td><td>0.7773513</td><td>51368</td><td>0.6584564</td><td> 881.836</td><td>Kecimen</td></tr>\n",
       "\t<tr><td>42492</td><td>310.1461</td><td>176.1314</td><td>0.8230987</td><td>43904</td><td>0.6658936</td><td> 823.796</td><td>Kecimen</td></tr>\n",
       "\t<tr><td>42256</td><td>323.1896</td><td>172.5759</td><td>0.8454988</td><td>44743</td><td>0.6980309</td><td> 849.728</td><td>Kecimen</td></tr>\n",
       "\t<tr><td>64380</td><td>366.9648</td><td>227.7716</td><td>0.7840556</td><td>66125</td><td>0.6643757</td><td> 981.544</td><td>Kecimen</td></tr>\n",
       "\t<tr><td>80437</td><td>449.4546</td><td>232.3255</td><td>0.8560425</td><td>84460</td><td>0.6742358</td><td>1176.305</td><td>Kecimen</td></tr>\n",
       "\t<tr><td>43725</td><td>301.3222</td><td>186.9506</td><td>0.7842585</td><td>45021</td><td>0.6970682</td><td> 818.873</td><td>Kecimen</td></tr>\n",
       "\t<tr><td>74167</td><td>387.7989</td><td>247.8581</td><td>0.7690897</td><td>76807</td><td>0.6801816</td><td>1084.729</td><td>Kecimen</td></tr>\n",
       "\t<tr><td>33565</td><td>261.5543</td><td>167.7085</td><td>0.7673743</td><td>35794</td><td>0.6815505</td><td> 751.413</td><td>Kecimen</td></tr>\n",
       "\t<tr><td>64670</td><td>403.0840</td><td>206.4846</td><td>0.8588292</td><td>66419</td><td>0.7567726</td><td>1028.445</td><td>Kecimen</td></tr>\n",
       "\t<tr><td>64762</td><td>354.2939</td><td>235.7525</td><td>0.7464737</td><td>66713</td><td>0.6949980</td><td> 981.509</td><td>Kecimen</td></tr>\n",
       "\t<tr><td>43295</td><td>304.2845</td><td>182.8110</td><td>0.7994070</td><td>44714</td><td>0.7138382</td><td> 814.680</td><td>Kecimen</td></tr>\n",
       "\t<tr><td>70699</td><td>418.6986</td><td>216.5961</td><td>0.8557994</td><td>72363</td><td>0.7280751</td><td>1061.321</td><td>Kecimen</td></tr>\n",
       "\t<tr><td>69726</td><td>354.1769</td><td>252.5292</td><td>0.7011610</td><td>71849</td><td>0.7343985</td><td>1035.501</td><td>Kecimen</td></tr>\n",
       "\t<tr><td>61251</td><td>301.5078</td><td>273.6599</td><td>0.4197537</td><td>64732</td><td>0.6435957</td><td> 971.769</td><td>Kecimen</td></tr>\n",
       "\t<tr><td>75620</td><td>368.2243</td><td>263.4593</td><td>0.6986273</td><td>77493</td><td>0.7262774</td><td>1059.186</td><td>Kecimen</td></tr>\n",
       "\t<tr><td>60847</td><td>336.9239</td><td>231.4657</td><td>0.7266602</td><td>62492</td><td>0.6985878</td><td> 964.603</td><td>Kecimen</td></tr>\n",
       "\t<tr><td>59902</td><td>358.5919</td><td>222.9020</td><td>0.7833320</td><td>63250</td><td>0.7441242</td><td> 982.788</td><td>Kecimen</td></tr>\n",
       "\t<tr><td>88745</td><td>429.7704</td><td>265.6902</td><td>0.7860095</td><td>90715</td><td>0.7520635</td><td>1162.877</td><td>Kecimen</td></tr>\n",
       "\t<tr><td>75329</td><td>364.2308</td><td>265.8669</td><td>0.6835105</td><td>77541</td><td>0.7230797</td><td>1075.792</td><td>Kecimen</td></tr>\n",
       "\t<tr><td>61600</td><td>350.1828</td><td>225.8428</td><td>0.7642431</td><td>63397</td><td>0.7468296</td><td> 972.472</td><td>Kecimen</td></tr>\n",
       "\t<tr><td>46427</td><td>253.8420</td><td>235.9068</td><td>0.3692125</td><td>48275</td><td>0.6842191</td><td> 844.312</td><td>Kecimen</td></tr>\n",
       "\t<tr><td>40861</td><td>249.7402</td><td>213.5733</td><td>0.5183283</td><td>43096</td><td>0.7430894</td><td> 784.912</td><td>Kecimen</td></tr>\n",
       "\t<tr><td>55827</td><td>305.2988</td><td>234.6612</td><td>0.6396961</td><td>57724</td><td>0.7032880</td><td> 926.095</td><td>Kecimen</td></tr>\n",
       "\t<tr><td>54182</td><td>366.0667</td><td>192.0133</td><td>0.8513914</td><td>56450</td><td>0.6114177</td><td> 968.729</td><td>Kecimen</td></tr>\n",
       "\t<tr><td>77055</td><td>375.2501</td><td>262.8124</td><td>0.7137839</td><td>79255</td><td>0.7322671</td><td>1095.283</td><td>Kecimen</td></tr>\n",
       "\t<tr><td>⋮</td><td>⋮</td><td>⋮</td><td>⋮</td><td>⋮</td><td>⋮</td><td>⋮</td><td>⋮</td></tr>\n",
       "\t<tr><td>137593</td><td>558.0588</td><td>316.7128</td><td>0.8233555</td><td>142114</td><td>0.6777646</td><td>1478.596</td><td>Besni</td></tr>\n",
       "\t<tr><td>166654</td><td>607.9965</td><td>349.6590</td><td>0.8180829</td><td>169060</td><td>0.7535177</td><td>1574.164</td><td>Besni</td></tr>\n",
       "\t<tr><td> 55858</td><td>298.8589</td><td>239.8994</td><td>0.5963587</td><td> 58630</td><td>0.6814527</td><td> 915.130</td><td>Besni</td></tr>\n",
       "\t<tr><td>105308</td><td>473.3134</td><td>284.1706</td><td>0.7997105</td><td>108094</td><td>0.7870141</td><td>1259.934</td><td>Besni</td></tr>\n",
       "\t<tr><td> 67468</td><td>424.5637</td><td>207.8231</td><td>0.8720044</td><td> 70674</td><td>0.6116939</td><td>1105.042</td><td>Besni</td></tr>\n",
       "\t<tr><td>132680</td><td>549.8653</td><td>308.3923</td><td>0.8279170</td><td>136612</td><td>0.6506537</td><td>1453.895</td><td>Besni</td></tr>\n",
       "\t<tr><td>225043</td><td>740.0037</td><td>390.3009</td><td>0.8495979</td><td>229195</td><td>0.7441874</td><td>1853.893</td><td>Besni</td></tr>\n",
       "\t<tr><td> 66613</td><td>433.1942</td><td>199.8147</td><td>0.8872655</td><td> 70454</td><td>0.7089506</td><td>1085.157</td><td>Besni</td></tr>\n",
       "\t<tr><td> 77622</td><td>460.1429</td><td>226.5813</td><td>0.8703605</td><td> 82990</td><td>0.6512131</td><td>1205.141</td><td>Besni</td></tr>\n",
       "\t<tr><td>179668</td><td>690.4334</td><td>332.5533</td><td>0.8763589</td><td>181954</td><td>0.7794031</td><td>1681.985</td><td>Besni</td></tr>\n",
       "\t<tr><td>105091</td><td>507.6851</td><td>268.0873</td><td>0.8492081</td><td>108296</td><td>0.7002705</td><td>1295.591</td><td>Besni</td></tr>\n",
       "\t<tr><td> 66938</td><td>356.3233</td><td>248.6742</td><td>0.7162055</td><td> 69880</td><td>0.7086611</td><td>1022.705</td><td>Besni</td></tr>\n",
       "\t<tr><td> 97494</td><td>451.7828</td><td>278.2800</td><td>0.7877776</td><td>101878</td><td>0.6896957</td><td>1254.755</td><td>Besni</td></tr>\n",
       "\t<tr><td>119336</td><td>563.5463</td><td>275.3558</td><td>0.8725009</td><td>125523</td><td>0.6681560</td><td>1469.764</td><td>Besni</td></tr>\n",
       "\t<tr><td>154498</td><td>621.3515</td><td>318.5977</td><td>0.8585382</td><td>159694</td><td>0.7500485</td><td>1585.782</td><td>Besni</td></tr>\n",
       "\t<tr><td>150420</td><td>607.7097</td><td>316.8097</td><td>0.8533628</td><td>153905</td><td>0.6424087</td><td>1557.266</td><td>Besni</td></tr>\n",
       "\t<tr><td>110296</td><td>487.6912</td><td>289.9248</td><td>0.8041071</td><td>113271</td><td>0.6870997</td><td>1316.112</td><td>Besni</td></tr>\n",
       "\t<tr><td>171264</td><td>609.6431</td><td>359.2246</td><td>0.8079599</td><td>174156</td><td>0.7717376</td><td>1592.095</td><td>Besni</td></tr>\n",
       "\t<tr><td>110936</td><td>500.9313</td><td>286.2524</td><td>0.8206436</td><td>113888</td><td>0.7323959</td><td>1319.435</td><td>Besni</td></tr>\n",
       "\t<tr><td> 54502</td><td>346.4580</td><td>204.0812</td><td>0.8080963</td><td> 56464</td><td>0.6361111</td><td> 927.283</td><td>Besni</td></tr>\n",
       "\t<tr><td>142415</td><td>532.0841</td><td>342.4207</td><td>0.7654072</td><td>144862</td><td>0.7706439</td><td>1449.803</td><td>Besni</td></tr>\n",
       "\t<tr><td> 94282</td><td>494.1630</td><td>244.8039</td><td>0.8686701</td><td> 97707</td><td>0.7023862</td><td>1269.680</td><td>Besni</td></tr>\n",
       "\t<tr><td> 68799</td><td>356.5678</td><td>253.2547</td><td>0.7039427</td><td> 71879</td><td>0.7009292</td><td>1041.270</td><td>Besni</td></tr>\n",
       "\t<tr><td> 79058</td><td>454.4372</td><td>236.9643</td><td>0.8532846</td><td> 82555</td><td>0.5782560</td><td>1175.034</td><td>Besni</td></tr>\n",
       "\t<tr><td>149703</td><td>637.8730</td><td>304.6225</td><td>0.8785992</td><td>154549</td><td>0.5938050</td><td>1596.356</td><td>Besni</td></tr>\n",
       "\t<tr><td>187391</td><td>660.6556</td><td>362.3150</td><td>0.8362047</td><td>189799</td><td>0.7139466</td><td>1682.478</td><td>Besni</td></tr>\n",
       "\t<tr><td>115272</td><td>511.4720</td><td>291.5913</td><td>0.8215738</td><td>119773</td><td>0.6247602</td><td>1392.653</td><td>Besni</td></tr>\n",
       "\t<tr><td> 87350</td><td>440.7357</td><td>259.2931</td><td>0.8086290</td><td> 90899</td><td>0.6364762</td><td>1214.252</td><td>Besni</td></tr>\n",
       "\t<tr><td> 93523</td><td>476.3441</td><td>254.1761</td><td>0.8457385</td><td> 97653</td><td>0.6587983</td><td>1258.548</td><td>Besni</td></tr>\n",
       "\t<tr><td> 85609</td><td>512.0818</td><td>215.2720</td><td>0.9073454</td><td> 89197</td><td>0.6320200</td><td>1272.862</td><td>Besni</td></tr>\n",
       "</tbody>\n",
       "</table>\n"
      ],
      "text/latex": [
       "A tibble: 676 × 8\n",
       "\\begin{tabular}{llllllll}\n",
       " Area & MajorAxisLength & MinorAxisLength & Eccentricity & ConvexArea & Extent & Perimeter & Class\\\\\n",
       " <dbl> & <dbl> & <dbl> & <dbl> & <dbl> & <dbl> & <dbl> & <chr>\\\\\n",
       "\\hline\n",
       "\t 87524 & 442.2460 & 253.2912 & 0.8197384 & 90546 & 0.7586506 & 1184.040 & Kecimen\\\\\n",
       "\t 75166 & 406.6907 & 243.0324 & 0.8018052 & 78789 & 0.6841296 & 1121.786 & Kecimen\\\\\n",
       "\t 90856 & 442.2670 & 266.3283 & 0.7983536 & 93717 & 0.6376128 & 1208.575 & Kecimen\\\\\n",
       "\t 45928 & 286.5406 & 208.7600 & 0.6849892 & 47336 & 0.6995994 &  844.162 & Kecimen\\\\\n",
       "\t 79408 & 352.1908 & 290.8275 & 0.5640113 & 81463 & 0.7927719 & 1073.251 & Kecimen\\\\\n",
       "\t 49242 & 318.1254 & 200.1221 & 0.7773513 & 51368 & 0.6584564 &  881.836 & Kecimen\\\\\n",
       "\t 42492 & 310.1461 & 176.1314 & 0.8230987 & 43904 & 0.6658936 &  823.796 & Kecimen\\\\\n",
       "\t 42256 & 323.1896 & 172.5759 & 0.8454988 & 44743 & 0.6980309 &  849.728 & Kecimen\\\\\n",
       "\t 64380 & 366.9648 & 227.7716 & 0.7840556 & 66125 & 0.6643757 &  981.544 & Kecimen\\\\\n",
       "\t 80437 & 449.4546 & 232.3255 & 0.8560425 & 84460 & 0.6742358 & 1176.305 & Kecimen\\\\\n",
       "\t 43725 & 301.3222 & 186.9506 & 0.7842585 & 45021 & 0.6970682 &  818.873 & Kecimen\\\\\n",
       "\t 74167 & 387.7989 & 247.8581 & 0.7690897 & 76807 & 0.6801816 & 1084.729 & Kecimen\\\\\n",
       "\t 33565 & 261.5543 & 167.7085 & 0.7673743 & 35794 & 0.6815505 &  751.413 & Kecimen\\\\\n",
       "\t 64670 & 403.0840 & 206.4846 & 0.8588292 & 66419 & 0.7567726 & 1028.445 & Kecimen\\\\\n",
       "\t 64762 & 354.2939 & 235.7525 & 0.7464737 & 66713 & 0.6949980 &  981.509 & Kecimen\\\\\n",
       "\t 43295 & 304.2845 & 182.8110 & 0.7994070 & 44714 & 0.7138382 &  814.680 & Kecimen\\\\\n",
       "\t 70699 & 418.6986 & 216.5961 & 0.8557994 & 72363 & 0.7280751 & 1061.321 & Kecimen\\\\\n",
       "\t 69726 & 354.1769 & 252.5292 & 0.7011610 & 71849 & 0.7343985 & 1035.501 & Kecimen\\\\\n",
       "\t 61251 & 301.5078 & 273.6599 & 0.4197537 & 64732 & 0.6435957 &  971.769 & Kecimen\\\\\n",
       "\t 75620 & 368.2243 & 263.4593 & 0.6986273 & 77493 & 0.7262774 & 1059.186 & Kecimen\\\\\n",
       "\t 60847 & 336.9239 & 231.4657 & 0.7266602 & 62492 & 0.6985878 &  964.603 & Kecimen\\\\\n",
       "\t 59902 & 358.5919 & 222.9020 & 0.7833320 & 63250 & 0.7441242 &  982.788 & Kecimen\\\\\n",
       "\t 88745 & 429.7704 & 265.6902 & 0.7860095 & 90715 & 0.7520635 & 1162.877 & Kecimen\\\\\n",
       "\t 75329 & 364.2308 & 265.8669 & 0.6835105 & 77541 & 0.7230797 & 1075.792 & Kecimen\\\\\n",
       "\t 61600 & 350.1828 & 225.8428 & 0.7642431 & 63397 & 0.7468296 &  972.472 & Kecimen\\\\\n",
       "\t 46427 & 253.8420 & 235.9068 & 0.3692125 & 48275 & 0.6842191 &  844.312 & Kecimen\\\\\n",
       "\t 40861 & 249.7402 & 213.5733 & 0.5183283 & 43096 & 0.7430894 &  784.912 & Kecimen\\\\\n",
       "\t 55827 & 305.2988 & 234.6612 & 0.6396961 & 57724 & 0.7032880 &  926.095 & Kecimen\\\\\n",
       "\t 54182 & 366.0667 & 192.0133 & 0.8513914 & 56450 & 0.6114177 &  968.729 & Kecimen\\\\\n",
       "\t 77055 & 375.2501 & 262.8124 & 0.7137839 & 79255 & 0.7322671 & 1095.283 & Kecimen\\\\\n",
       "\t ⋮ & ⋮ & ⋮ & ⋮ & ⋮ & ⋮ & ⋮ & ⋮\\\\\n",
       "\t 137593 & 558.0588 & 316.7128 & 0.8233555 & 142114 & 0.6777646 & 1478.596 & Besni\\\\\n",
       "\t 166654 & 607.9965 & 349.6590 & 0.8180829 & 169060 & 0.7535177 & 1574.164 & Besni\\\\\n",
       "\t  55858 & 298.8589 & 239.8994 & 0.5963587 &  58630 & 0.6814527 &  915.130 & Besni\\\\\n",
       "\t 105308 & 473.3134 & 284.1706 & 0.7997105 & 108094 & 0.7870141 & 1259.934 & Besni\\\\\n",
       "\t  67468 & 424.5637 & 207.8231 & 0.8720044 &  70674 & 0.6116939 & 1105.042 & Besni\\\\\n",
       "\t 132680 & 549.8653 & 308.3923 & 0.8279170 & 136612 & 0.6506537 & 1453.895 & Besni\\\\\n",
       "\t 225043 & 740.0037 & 390.3009 & 0.8495979 & 229195 & 0.7441874 & 1853.893 & Besni\\\\\n",
       "\t  66613 & 433.1942 & 199.8147 & 0.8872655 &  70454 & 0.7089506 & 1085.157 & Besni\\\\\n",
       "\t  77622 & 460.1429 & 226.5813 & 0.8703605 &  82990 & 0.6512131 & 1205.141 & Besni\\\\\n",
       "\t 179668 & 690.4334 & 332.5533 & 0.8763589 & 181954 & 0.7794031 & 1681.985 & Besni\\\\\n",
       "\t 105091 & 507.6851 & 268.0873 & 0.8492081 & 108296 & 0.7002705 & 1295.591 & Besni\\\\\n",
       "\t  66938 & 356.3233 & 248.6742 & 0.7162055 &  69880 & 0.7086611 & 1022.705 & Besni\\\\\n",
       "\t  97494 & 451.7828 & 278.2800 & 0.7877776 & 101878 & 0.6896957 & 1254.755 & Besni\\\\\n",
       "\t 119336 & 563.5463 & 275.3558 & 0.8725009 & 125523 & 0.6681560 & 1469.764 & Besni\\\\\n",
       "\t 154498 & 621.3515 & 318.5977 & 0.8585382 & 159694 & 0.7500485 & 1585.782 & Besni\\\\\n",
       "\t 150420 & 607.7097 & 316.8097 & 0.8533628 & 153905 & 0.6424087 & 1557.266 & Besni\\\\\n",
       "\t 110296 & 487.6912 & 289.9248 & 0.8041071 & 113271 & 0.6870997 & 1316.112 & Besni\\\\\n",
       "\t 171264 & 609.6431 & 359.2246 & 0.8079599 & 174156 & 0.7717376 & 1592.095 & Besni\\\\\n",
       "\t 110936 & 500.9313 & 286.2524 & 0.8206436 & 113888 & 0.7323959 & 1319.435 & Besni\\\\\n",
       "\t  54502 & 346.4580 & 204.0812 & 0.8080963 &  56464 & 0.6361111 &  927.283 & Besni\\\\\n",
       "\t 142415 & 532.0841 & 342.4207 & 0.7654072 & 144862 & 0.7706439 & 1449.803 & Besni\\\\\n",
       "\t  94282 & 494.1630 & 244.8039 & 0.8686701 &  97707 & 0.7023862 & 1269.680 & Besni\\\\\n",
       "\t  68799 & 356.5678 & 253.2547 & 0.7039427 &  71879 & 0.7009292 & 1041.270 & Besni\\\\\n",
       "\t  79058 & 454.4372 & 236.9643 & 0.8532846 &  82555 & 0.5782560 & 1175.034 & Besni\\\\\n",
       "\t 149703 & 637.8730 & 304.6225 & 0.8785992 & 154549 & 0.5938050 & 1596.356 & Besni\\\\\n",
       "\t 187391 & 660.6556 & 362.3150 & 0.8362047 & 189799 & 0.7139466 & 1682.478 & Besni\\\\\n",
       "\t 115272 & 511.4720 & 291.5913 & 0.8215738 & 119773 & 0.6247602 & 1392.653 & Besni\\\\\n",
       "\t  87350 & 440.7357 & 259.2931 & 0.8086290 &  90899 & 0.6364762 & 1214.252 & Besni\\\\\n",
       "\t  93523 & 476.3441 & 254.1761 & 0.8457385 &  97653 & 0.6587983 & 1258.548 & Besni\\\\\n",
       "\t  85609 & 512.0818 & 215.2720 & 0.9073454 &  89197 & 0.6320200 & 1272.862 & Besni\\\\\n",
       "\\end{tabular}\n"
      ],
      "text/markdown": [
       "\n",
       "A tibble: 676 × 8\n",
       "\n",
       "| Area &lt;dbl&gt; | MajorAxisLength &lt;dbl&gt; | MinorAxisLength &lt;dbl&gt; | Eccentricity &lt;dbl&gt; | ConvexArea &lt;dbl&gt; | Extent &lt;dbl&gt; | Perimeter &lt;dbl&gt; | Class &lt;chr&gt; |\n",
       "|---|---|---|---|---|---|---|---|\n",
       "| 87524 | 442.2460 | 253.2912 | 0.8197384 | 90546 | 0.7586506 | 1184.040 | Kecimen |\n",
       "| 75166 | 406.6907 | 243.0324 | 0.8018052 | 78789 | 0.6841296 | 1121.786 | Kecimen |\n",
       "| 90856 | 442.2670 | 266.3283 | 0.7983536 | 93717 | 0.6376128 | 1208.575 | Kecimen |\n",
       "| 45928 | 286.5406 | 208.7600 | 0.6849892 | 47336 | 0.6995994 |  844.162 | Kecimen |\n",
       "| 79408 | 352.1908 | 290.8275 | 0.5640113 | 81463 | 0.7927719 | 1073.251 | Kecimen |\n",
       "| 49242 | 318.1254 | 200.1221 | 0.7773513 | 51368 | 0.6584564 |  881.836 | Kecimen |\n",
       "| 42492 | 310.1461 | 176.1314 | 0.8230987 | 43904 | 0.6658936 |  823.796 | Kecimen |\n",
       "| 42256 | 323.1896 | 172.5759 | 0.8454988 | 44743 | 0.6980309 |  849.728 | Kecimen |\n",
       "| 64380 | 366.9648 | 227.7716 | 0.7840556 | 66125 | 0.6643757 |  981.544 | Kecimen |\n",
       "| 80437 | 449.4546 | 232.3255 | 0.8560425 | 84460 | 0.6742358 | 1176.305 | Kecimen |\n",
       "| 43725 | 301.3222 | 186.9506 | 0.7842585 | 45021 | 0.6970682 |  818.873 | Kecimen |\n",
       "| 74167 | 387.7989 | 247.8581 | 0.7690897 | 76807 | 0.6801816 | 1084.729 | Kecimen |\n",
       "| 33565 | 261.5543 | 167.7085 | 0.7673743 | 35794 | 0.6815505 |  751.413 | Kecimen |\n",
       "| 64670 | 403.0840 | 206.4846 | 0.8588292 | 66419 | 0.7567726 | 1028.445 | Kecimen |\n",
       "| 64762 | 354.2939 | 235.7525 | 0.7464737 | 66713 | 0.6949980 |  981.509 | Kecimen |\n",
       "| 43295 | 304.2845 | 182.8110 | 0.7994070 | 44714 | 0.7138382 |  814.680 | Kecimen |\n",
       "| 70699 | 418.6986 | 216.5961 | 0.8557994 | 72363 | 0.7280751 | 1061.321 | Kecimen |\n",
       "| 69726 | 354.1769 | 252.5292 | 0.7011610 | 71849 | 0.7343985 | 1035.501 | Kecimen |\n",
       "| 61251 | 301.5078 | 273.6599 | 0.4197537 | 64732 | 0.6435957 |  971.769 | Kecimen |\n",
       "| 75620 | 368.2243 | 263.4593 | 0.6986273 | 77493 | 0.7262774 | 1059.186 | Kecimen |\n",
       "| 60847 | 336.9239 | 231.4657 | 0.7266602 | 62492 | 0.6985878 |  964.603 | Kecimen |\n",
       "| 59902 | 358.5919 | 222.9020 | 0.7833320 | 63250 | 0.7441242 |  982.788 | Kecimen |\n",
       "| 88745 | 429.7704 | 265.6902 | 0.7860095 | 90715 | 0.7520635 | 1162.877 | Kecimen |\n",
       "| 75329 | 364.2308 | 265.8669 | 0.6835105 | 77541 | 0.7230797 | 1075.792 | Kecimen |\n",
       "| 61600 | 350.1828 | 225.8428 | 0.7642431 | 63397 | 0.7468296 |  972.472 | Kecimen |\n",
       "| 46427 | 253.8420 | 235.9068 | 0.3692125 | 48275 | 0.6842191 |  844.312 | Kecimen |\n",
       "| 40861 | 249.7402 | 213.5733 | 0.5183283 | 43096 | 0.7430894 |  784.912 | Kecimen |\n",
       "| 55827 | 305.2988 | 234.6612 | 0.6396961 | 57724 | 0.7032880 |  926.095 | Kecimen |\n",
       "| 54182 | 366.0667 | 192.0133 | 0.8513914 | 56450 | 0.6114177 |  968.729 | Kecimen |\n",
       "| 77055 | 375.2501 | 262.8124 | 0.7137839 | 79255 | 0.7322671 | 1095.283 | Kecimen |\n",
       "| ⋮ | ⋮ | ⋮ | ⋮ | ⋮ | ⋮ | ⋮ | ⋮ |\n",
       "| 137593 | 558.0588 | 316.7128 | 0.8233555 | 142114 | 0.6777646 | 1478.596 | Besni |\n",
       "| 166654 | 607.9965 | 349.6590 | 0.8180829 | 169060 | 0.7535177 | 1574.164 | Besni |\n",
       "|  55858 | 298.8589 | 239.8994 | 0.5963587 |  58630 | 0.6814527 |  915.130 | Besni |\n",
       "| 105308 | 473.3134 | 284.1706 | 0.7997105 | 108094 | 0.7870141 | 1259.934 | Besni |\n",
       "|  67468 | 424.5637 | 207.8231 | 0.8720044 |  70674 | 0.6116939 | 1105.042 | Besni |\n",
       "| 132680 | 549.8653 | 308.3923 | 0.8279170 | 136612 | 0.6506537 | 1453.895 | Besni |\n",
       "| 225043 | 740.0037 | 390.3009 | 0.8495979 | 229195 | 0.7441874 | 1853.893 | Besni |\n",
       "|  66613 | 433.1942 | 199.8147 | 0.8872655 |  70454 | 0.7089506 | 1085.157 | Besni |\n",
       "|  77622 | 460.1429 | 226.5813 | 0.8703605 |  82990 | 0.6512131 | 1205.141 | Besni |\n",
       "| 179668 | 690.4334 | 332.5533 | 0.8763589 | 181954 | 0.7794031 | 1681.985 | Besni |\n",
       "| 105091 | 507.6851 | 268.0873 | 0.8492081 | 108296 | 0.7002705 | 1295.591 | Besni |\n",
       "|  66938 | 356.3233 | 248.6742 | 0.7162055 |  69880 | 0.7086611 | 1022.705 | Besni |\n",
       "|  97494 | 451.7828 | 278.2800 | 0.7877776 | 101878 | 0.6896957 | 1254.755 | Besni |\n",
       "| 119336 | 563.5463 | 275.3558 | 0.8725009 | 125523 | 0.6681560 | 1469.764 | Besni |\n",
       "| 154498 | 621.3515 | 318.5977 | 0.8585382 | 159694 | 0.7500485 | 1585.782 | Besni |\n",
       "| 150420 | 607.7097 | 316.8097 | 0.8533628 | 153905 | 0.6424087 | 1557.266 | Besni |\n",
       "| 110296 | 487.6912 | 289.9248 | 0.8041071 | 113271 | 0.6870997 | 1316.112 | Besni |\n",
       "| 171264 | 609.6431 | 359.2246 | 0.8079599 | 174156 | 0.7717376 | 1592.095 | Besni |\n",
       "| 110936 | 500.9313 | 286.2524 | 0.8206436 | 113888 | 0.7323959 | 1319.435 | Besni |\n",
       "|  54502 | 346.4580 | 204.0812 | 0.8080963 |  56464 | 0.6361111 |  927.283 | Besni |\n",
       "| 142415 | 532.0841 | 342.4207 | 0.7654072 | 144862 | 0.7706439 | 1449.803 | Besni |\n",
       "|  94282 | 494.1630 | 244.8039 | 0.8686701 |  97707 | 0.7023862 | 1269.680 | Besni |\n",
       "|  68799 | 356.5678 | 253.2547 | 0.7039427 |  71879 | 0.7009292 | 1041.270 | Besni |\n",
       "|  79058 | 454.4372 | 236.9643 | 0.8532846 |  82555 | 0.5782560 | 1175.034 | Besni |\n",
       "| 149703 | 637.8730 | 304.6225 | 0.8785992 | 154549 | 0.5938050 | 1596.356 | Besni |\n",
       "| 187391 | 660.6556 | 362.3150 | 0.8362047 | 189799 | 0.7139466 | 1682.478 | Besni |\n",
       "| 115272 | 511.4720 | 291.5913 | 0.8215738 | 119773 | 0.6247602 | 1392.653 | Besni |\n",
       "|  87350 | 440.7357 | 259.2931 | 0.8086290 |  90899 | 0.6364762 | 1214.252 | Besni |\n",
       "|  93523 | 476.3441 | 254.1761 | 0.8457385 |  97653 | 0.6587983 | 1258.548 | Besni |\n",
       "|  85609 | 512.0818 | 215.2720 | 0.9073454 |  89197 | 0.6320200 | 1272.862 | Besni |\n",
       "\n"
      ],
      "text/plain": [
       "    Area   MajorAxisLength MinorAxisLength Eccentricity ConvexArea Extent   \n",
       "1   87524  442.2460        253.2912        0.8197384    90546      0.7586506\n",
       "2   75166  406.6907        243.0324        0.8018052    78789      0.6841296\n",
       "3   90856  442.2670        266.3283        0.7983536    93717      0.6376128\n",
       "4   45928  286.5406        208.7600        0.6849892    47336      0.6995994\n",
       "5   79408  352.1908        290.8275        0.5640113    81463      0.7927719\n",
       "6   49242  318.1254        200.1221        0.7773513    51368      0.6584564\n",
       "7   42492  310.1461        176.1314        0.8230987    43904      0.6658936\n",
       "8   42256  323.1896        172.5759        0.8454988    44743      0.6980309\n",
       "9   64380  366.9648        227.7716        0.7840556    66125      0.6643757\n",
       "10  80437  449.4546        232.3255        0.8560425    84460      0.6742358\n",
       "11  43725  301.3222        186.9506        0.7842585    45021      0.6970682\n",
       "12  74167  387.7989        247.8581        0.7690897    76807      0.6801816\n",
       "13  33565  261.5543        167.7085        0.7673743    35794      0.6815505\n",
       "14  64670  403.0840        206.4846        0.8588292    66419      0.7567726\n",
       "15  64762  354.2939        235.7525        0.7464737    66713      0.6949980\n",
       "16  43295  304.2845        182.8110        0.7994070    44714      0.7138382\n",
       "17  70699  418.6986        216.5961        0.8557994    72363      0.7280751\n",
       "18  69726  354.1769        252.5292        0.7011610    71849      0.7343985\n",
       "19  61251  301.5078        273.6599        0.4197537    64732      0.6435957\n",
       "20  75620  368.2243        263.4593        0.6986273    77493      0.7262774\n",
       "21  60847  336.9239        231.4657        0.7266602    62492      0.6985878\n",
       "22  59902  358.5919        222.9020        0.7833320    63250      0.7441242\n",
       "23  88745  429.7704        265.6902        0.7860095    90715      0.7520635\n",
       "24  75329  364.2308        265.8669        0.6835105    77541      0.7230797\n",
       "25  61600  350.1828        225.8428        0.7642431    63397      0.7468296\n",
       "26  46427  253.8420        235.9068        0.3692125    48275      0.6842191\n",
       "27  40861  249.7402        213.5733        0.5183283    43096      0.7430894\n",
       "28  55827  305.2988        234.6612        0.6396961    57724      0.7032880\n",
       "29  54182  366.0667        192.0133        0.8513914    56450      0.6114177\n",
       "30  77055  375.2501        262.8124        0.7137839    79255      0.7322671\n",
       "⋮   ⋮      ⋮               ⋮               ⋮            ⋮          ⋮        \n",
       "647 137593 558.0588        316.7128        0.8233555    142114     0.6777646\n",
       "648 166654 607.9965        349.6590        0.8180829    169060     0.7535177\n",
       "649  55858 298.8589        239.8994        0.5963587     58630     0.6814527\n",
       "650 105308 473.3134        284.1706        0.7997105    108094     0.7870141\n",
       "651  67468 424.5637        207.8231        0.8720044     70674     0.6116939\n",
       "652 132680 549.8653        308.3923        0.8279170    136612     0.6506537\n",
       "653 225043 740.0037        390.3009        0.8495979    229195     0.7441874\n",
       "654  66613 433.1942        199.8147        0.8872655     70454     0.7089506\n",
       "655  77622 460.1429        226.5813        0.8703605     82990     0.6512131\n",
       "656 179668 690.4334        332.5533        0.8763589    181954     0.7794031\n",
       "657 105091 507.6851        268.0873        0.8492081    108296     0.7002705\n",
       "658  66938 356.3233        248.6742        0.7162055     69880     0.7086611\n",
       "659  97494 451.7828        278.2800        0.7877776    101878     0.6896957\n",
       "660 119336 563.5463        275.3558        0.8725009    125523     0.6681560\n",
       "661 154498 621.3515        318.5977        0.8585382    159694     0.7500485\n",
       "662 150420 607.7097        316.8097        0.8533628    153905     0.6424087\n",
       "663 110296 487.6912        289.9248        0.8041071    113271     0.6870997\n",
       "664 171264 609.6431        359.2246        0.8079599    174156     0.7717376\n",
       "665 110936 500.9313        286.2524        0.8206436    113888     0.7323959\n",
       "666  54502 346.4580        204.0812        0.8080963     56464     0.6361111\n",
       "667 142415 532.0841        342.4207        0.7654072    144862     0.7706439\n",
       "668  94282 494.1630        244.8039        0.8686701     97707     0.7023862\n",
       "669  68799 356.5678        253.2547        0.7039427     71879     0.7009292\n",
       "670  79058 454.4372        236.9643        0.8532846     82555     0.5782560\n",
       "671 149703 637.8730        304.6225        0.8785992    154549     0.5938050\n",
       "672 187391 660.6556        362.3150        0.8362047    189799     0.7139466\n",
       "673 115272 511.4720        291.5913        0.8215738    119773     0.6247602\n",
       "674  87350 440.7357        259.2931        0.8086290     90899     0.6364762\n",
       "675  93523 476.3441        254.1761        0.8457385     97653     0.6587983\n",
       "676  85609 512.0818        215.2720        0.9073454     89197     0.6320200\n",
       "    Perimeter Class  \n",
       "1   1184.040  Kecimen\n",
       "2   1121.786  Kecimen\n",
       "3   1208.575  Kecimen\n",
       "4    844.162  Kecimen\n",
       "5   1073.251  Kecimen\n",
       "6    881.836  Kecimen\n",
       "7    823.796  Kecimen\n",
       "8    849.728  Kecimen\n",
       "9    981.544  Kecimen\n",
       "10  1176.305  Kecimen\n",
       "11   818.873  Kecimen\n",
       "12  1084.729  Kecimen\n",
       "13   751.413  Kecimen\n",
       "14  1028.445  Kecimen\n",
       "15   981.509  Kecimen\n",
       "16   814.680  Kecimen\n",
       "17  1061.321  Kecimen\n",
       "18  1035.501  Kecimen\n",
       "19   971.769  Kecimen\n",
       "20  1059.186  Kecimen\n",
       "21   964.603  Kecimen\n",
       "22   982.788  Kecimen\n",
       "23  1162.877  Kecimen\n",
       "24  1075.792  Kecimen\n",
       "25   972.472  Kecimen\n",
       "26   844.312  Kecimen\n",
       "27   784.912  Kecimen\n",
       "28   926.095  Kecimen\n",
       "29   968.729  Kecimen\n",
       "30  1095.283  Kecimen\n",
       "⋮   ⋮         ⋮      \n",
       "647 1478.596  Besni  \n",
       "648 1574.164  Besni  \n",
       "649  915.130  Besni  \n",
       "650 1259.934  Besni  \n",
       "651 1105.042  Besni  \n",
       "652 1453.895  Besni  \n",
       "653 1853.893  Besni  \n",
       "654 1085.157  Besni  \n",
       "655 1205.141  Besni  \n",
       "656 1681.985  Besni  \n",
       "657 1295.591  Besni  \n",
       "658 1022.705  Besni  \n",
       "659 1254.755  Besni  \n",
       "660 1469.764  Besni  \n",
       "661 1585.782  Besni  \n",
       "662 1557.266  Besni  \n",
       "663 1316.112  Besni  \n",
       "664 1592.095  Besni  \n",
       "665 1319.435  Besni  \n",
       "666  927.283  Besni  \n",
       "667 1449.803  Besni  \n",
       "668 1269.680  Besni  \n",
       "669 1041.270  Besni  \n",
       "670 1175.034  Besni  \n",
       "671 1596.356  Besni  \n",
       "672 1682.478  Besni  \n",
       "673 1392.653  Besni  \n",
       "674 1214.252  Besni  \n",
       "675 1258.548  Besni  \n",
       "676 1272.862  Besni  "
      ]
     },
     "metadata": {},
     "output_type": "display_data"
    }
   ],
   "source": [
    "raisin_split <- initial_split(raisin_data, prop = 0.75 ,strata = Class)\n",
    "raisin_training <- training(raisin_split)\n",
    "raisin_testing <- testing(raisin_split)\n",
    "\n",
    "raisin_subset <- raisin_training %>%\n",
    "  select(Area,\n",
    "         MajorAxisLength, \n",
    "         MinorAxisLength, \n",
    "         Eccentricity, \n",
    "         ConvexArea, \n",
    "         Extent, \n",
    "         Perimeter, \n",
    "         Class)\n",
    "\n",
    "names <- colnames(select(raisin_subset, -Class))\n",
    "\n",
    "raisin_subset\n"
   ]
  },
  {
   "cell_type": "code",
   "execution_count": 18,
   "metadata": {},
   "outputs": [],
   "source": [
    "raisin_recipe <- recipe(Class ~ . , data = raisin_subset) %>%\n",
    "    step_scale(all_predictors()) %>%\n",
    "    step_center(all_predictors())"
   ]
  },
  {
   "cell_type": "code",
   "execution_count": 19,
   "metadata": {},
   "outputs": [],
   "source": [
    "# creating an empty tibble which will store the accuracy results\n",
    "accuracies <- tibble(size = integer(), \n",
    "                     model_string = character(), \n",
    "                     accuracy = numeric())"
   ]
  },
  {
   "cell_type": "code",
   "execution_count": 20,
   "metadata": {},
   "outputs": [],
   "source": [
    "# create a model \n",
    "knn_spec <- nearest_neighbor(weight_func = \"rectangular\", \n",
    "                             neighbors = tune()) %>%\n",
    "     set_engine(\"kknn\") %>%\n",
    "     set_mode(\"classification\")\n"
   ]
  },
  {
   "cell_type": "code",
   "execution_count": null,
   "metadata": {},
   "outputs": [],
   "source": []
  },
  {
   "cell_type": "code",
   "execution_count": 21,
   "metadata": {},
   "outputs": [],
   "source": [
    "# 5-fold cross-validation\n",
    "cancer_vfold <- vfold_cv(raisin_subset, v = 5, strata = Class)\n",
    "\n",
    "# total # of predictors\n",
    "n_total <- length(names)\n",
    "\n",
    "# creating to store selected predictors\n",
    "selected <- c()"
   ]
  },
  {
   "cell_type": "code",
   "execution_count": 22,
   "metadata": {},
   "outputs": [
    {
     "ename": "ERROR",
     "evalue": "Error in parse(text = x, srcfile = src): <text>:7:0: unexpected end of input\n5:     accs <- list()\n6:     models <- list()\n  ^\n",
     "output_type": "error",
     "traceback": [
      "Error in parse(text = x, srcfile = src): <text>:7:0: unexpected end of input\n5:     accs <- list()\n6:     models <- list()\n  ^\nTraceback:\n"
     ]
    }
   ],
   "source": [
    "#loops\n",
    "# for every size from 1 to the total number of predictors\n",
    "for (i in 1:n_total) {\n",
    "    # for every predictor still not added yet\n",
    "    accs <- list()\n",
    "    models <- list()"
   ]
  },
  {
   "cell_type": "markdown",
   "metadata": {},
   "source": [
    "3. Describing at least one way to visualize the results"
   ]
  },
  {
   "cell_type": "markdown",
   "metadata": {},
   "source": [
    "visualization"
   ]
  },
  {
   "cell_type": "code",
   "execution_count": null,
   "metadata": {},
   "outputs": [],
   "source": [
    "We can vizualize the accuracy based on the number of predicators using the knn alogirthim "
   ]
  }
 ],
 "metadata": {
  "kernelspec": {
   "display_name": "R",
   "language": "R",
   "name": "ir"
  },
  "language_info": {
   "codemirror_mode": "r",
   "file_extension": ".r",
   "mimetype": "text/x-r-source",
   "name": "R",
   "pygments_lexer": "r",
   "version": "4.0.0"
  }
 },
 "nbformat": 4,
 "nbformat_minor": 4
}
