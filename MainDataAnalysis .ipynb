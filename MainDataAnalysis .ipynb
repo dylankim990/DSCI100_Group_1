{
 "cells": [
  {
   "cell_type": "code",
   "execution_count": 120,
   "metadata": {},
   "outputs": [
    {
     "name": "stderr",
     "output_type": "stream",
     "text": [
      "Parsed with column specification:\n",
      "cols(\n",
      "  Area = \u001b[32mcol_double()\u001b[39m,\n",
      "  MajorAxisLength = \u001b[32mcol_double()\u001b[39m,\n",
      "  MinorAxisLength = \u001b[32mcol_double()\u001b[39m,\n",
      "  Eccentricity = \u001b[32mcol_double()\u001b[39m,\n",
      "  ConvexArea = \u001b[32mcol_double()\u001b[39m,\n",
      "  Extent = \u001b[32mcol_double()\u001b[39m,\n",
      "  Perimeter = \u001b[32mcol_double()\u001b[39m,\n",
      "  Class = \u001b[31mcol_character()\u001b[39m\n",
      ")\n",
      "\n"
     ]
    }
   ],
   "source": [
    "library(tidyverse)\n",
    "library(tidymodels)\n",
    "library(readxl)\n",
    "\n",
    "raisin_data <- read_csv(\"https://github.com/dylankim990/DSCI100_Group_1/raw/main/data/Raisin_Dataset.csv\") %>% mutate(Class = as_factor(Class))"
   ]
  },
  {
   "cell_type": "code",
   "execution_count": 122,
   "metadata": {},
   "outputs": [],
   "source": [
    "#1. choose columns; forward selection \n",
    "#2. choose K; cross-validation\n",
    "#3. predict and find accuracy on testing set; train and predict \n",
    "#4. compare the model prediction with other research model predictions"
   ]
  },
  {
   "cell_type": "markdown",
   "metadata": {},
   "source": [
    "#### 1. choose columns; forward selection "
   ]
  },
  {
   "cell_type": "markdown",
   "metadata": {},
   "source": [
    "Before finding K through cross-validation, we will be using forward selection to find the best combination of predictors that shows highest accuracy rates. For efficiency, we eliminated the combinations with too many predictors. Since selecting predictors is a part of tuning my classifier, we have only used training dataset for the process. Below is the codes. There are two forloops. First one increases the predictor set sizes and the second one selects which predictor to add, by checking which one gives the best accuracy rate. For each combination of predictors, the loop created a recipe, with scaling, and inserted into a workflow to tune the K-NN classifier using 5-fold cross-validation. Then, we have visualized the Number of Predictors against Estimated Accuracy to find the highest accuracy rate, the combination of the three predictors: Perimeter, Eccentricity, and Area had the highest accuracy. "
   ]
  },
  {
   "cell_type": "code",
   "execution_count": 121,
   "metadata": {},
   "outputs": [
    {
     "data": {
      "text/html": [
       "<table>\n",
       "<caption>A tibble: 7 × 3</caption>\n",
       "<thead>\n",
       "\t<tr><th scope=col>size</th><th scope=col>model_string</th><th scope=col>accuracy</th></tr>\n",
       "\t<tr><th scope=col>&lt;int&gt;</th><th scope=col>&lt;chr&gt;</th><th scope=col>&lt;dbl&gt;</th></tr>\n",
       "</thead>\n",
       "<tbody>\n",
       "\t<tr><td>1</td><td>Class ~ Perimeter                                                                    </td><td>0.8562774</td></tr>\n",
       "\t<tr><td>2</td><td>Class ~ Perimeter+Eccentricity                                                       </td><td>0.8651010</td></tr>\n",
       "\t<tr><td>3</td><td>Class ~ Perimeter+Eccentricity+Area                                                  </td><td>0.8696444</td></tr>\n",
       "\t<tr><td>4</td><td>Class ~ Perimeter+Eccentricity+Area+MajorAxisLength                                  </td><td>0.8681299</td></tr>\n",
       "\t<tr><td>5</td><td>Class ~ Perimeter+Eccentricity+Area+MajorAxisLength+ConvexArea                       </td><td>0.8637182</td></tr>\n",
       "\t<tr><td>6</td><td>Class ~ Perimeter+Eccentricity+Area+MajorAxisLength+ConvexArea+Extent                </td><td>0.8651229</td></tr>\n",
       "\t<tr><td>7</td><td>Class ~ Perimeter+Eccentricity+Area+MajorAxisLength+ConvexArea+Extent+MinorAxisLength</td><td>0.8680641</td></tr>\n",
       "</tbody>\n",
       "</table>\n"
      ],
      "text/latex": [
       "A tibble: 7 × 3\n",
       "\\begin{tabular}{lll}\n",
       " size & model\\_string & accuracy\\\\\n",
       " <int> & <chr> & <dbl>\\\\\n",
       "\\hline\n",
       "\t 1 & Class \\textasciitilde{} Perimeter                                                                     & 0.8562774\\\\\n",
       "\t 2 & Class \\textasciitilde{} Perimeter+Eccentricity                                                        & 0.8651010\\\\\n",
       "\t 3 & Class \\textasciitilde{} Perimeter+Eccentricity+Area                                                   & 0.8696444\\\\\n",
       "\t 4 & Class \\textasciitilde{} Perimeter+Eccentricity+Area+MajorAxisLength                                   & 0.8681299\\\\\n",
       "\t 5 & Class \\textasciitilde{} Perimeter+Eccentricity+Area+MajorAxisLength+ConvexArea                        & 0.8637182\\\\\n",
       "\t 6 & Class \\textasciitilde{} Perimeter+Eccentricity+Area+MajorAxisLength+ConvexArea+Extent                 & 0.8651229\\\\\n",
       "\t 7 & Class \\textasciitilde{} Perimeter+Eccentricity+Area+MajorAxisLength+ConvexArea+Extent+MinorAxisLength & 0.8680641\\\\\n",
       "\\end{tabular}\n"
      ],
      "text/markdown": [
       "\n",
       "A tibble: 7 × 3\n",
       "\n",
       "| size &lt;int&gt; | model_string &lt;chr&gt; | accuracy &lt;dbl&gt; |\n",
       "|---|---|---|\n",
       "| 1 | Class ~ Perimeter                                                                     | 0.8562774 |\n",
       "| 2 | Class ~ Perimeter+Eccentricity                                                        | 0.8651010 |\n",
       "| 3 | Class ~ Perimeter+Eccentricity+Area                                                   | 0.8696444 |\n",
       "| 4 | Class ~ Perimeter+Eccentricity+Area+MajorAxisLength                                   | 0.8681299 |\n",
       "| 5 | Class ~ Perimeter+Eccentricity+Area+MajorAxisLength+ConvexArea                        | 0.8637182 |\n",
       "| 6 | Class ~ Perimeter+Eccentricity+Area+MajorAxisLength+ConvexArea+Extent                 | 0.8651229 |\n",
       "| 7 | Class ~ Perimeter+Eccentricity+Area+MajorAxisLength+ConvexArea+Extent+MinorAxisLength | 0.8680641 |\n",
       "\n"
      ],
      "text/plain": [
       "  size\n",
       "1 1   \n",
       "2 2   \n",
       "3 3   \n",
       "4 4   \n",
       "5 5   \n",
       "6 6   \n",
       "7 7   \n",
       "  model_string                                                                         \n",
       "1 Class ~ Perimeter                                                                    \n",
       "2 Class ~ Perimeter+Eccentricity                                                       \n",
       "3 Class ~ Perimeter+Eccentricity+Area                                                  \n",
       "4 Class ~ Perimeter+Eccentricity+Area+MajorAxisLength                                  \n",
       "5 Class ~ Perimeter+Eccentricity+Area+MajorAxisLength+ConvexArea                       \n",
       "6 Class ~ Perimeter+Eccentricity+Area+MajorAxisLength+ConvexArea+Extent                \n",
       "7 Class ~ Perimeter+Eccentricity+Area+MajorAxisLength+ConvexArea+Extent+MinorAxisLength\n",
       "  accuracy \n",
       "1 0.8562774\n",
       "2 0.8651010\n",
       "3 0.8696444\n",
       "4 0.8681299\n",
       "5 0.8637182\n",
       "6 0.8651229\n",
       "7 0.8680641"
      ]
     },
     "metadata": {},
     "output_type": "display_data"
    },
    {
     "data": {
      "image/png": "[encoded data removed]",
      "text/plain": [
       "plot without title"
      ]
     },
     "metadata": {
      "image/png": {
       "height": 480,
       "width": 480
      }
     },
     "output_type": "display_data"
    }
   ],
   "source": [
    "set.seed(5805)\n",
    "raisin_split <- initial_split(raisin_data, prop = 0.75 ,strata = Class)\n",
    "raisin_training <- training(raisin_split)\n",
    "raisin_testing <- testing(raisin_split)\n",
    "\n",
    "raisin_subset <- raisin_training %>%\n",
    "  select(Area,\n",
    "         MajorAxisLength, \n",
    "         MinorAxisLength, \n",
    "         Eccentricity, \n",
    "         ConvexArea, \n",
    "         Extent, \n",
    "         Perimeter, \n",
    "         Class)\n",
    "\n",
    "names <- colnames(select(raisin_subset, -Class))\n",
    "# creating an empty tibble which will store the accuracy results\n",
    "accuracies <- tibble(size = integer(), \n",
    "                     model_string = character(), \n",
    "                     accuracy = numeric())\n",
    "# create a model \n",
    "knn_spec <- nearest_neighbor(weight_func = \"rectangular\", \n",
    "                             neighbors = tune()) %>%\n",
    "     set_engine(\"kknn\") %>%\n",
    "     set_mode(\"classification\")\n",
    "# 5-fold cross-validation\n",
    "raisin_vfold <- vfold_cv(raisin_subset, v = 5, strata = Class)\n",
    "\n",
    "# total # of predictors\n",
    "n_total <- length(names)\n",
    "\n",
    "# creating to store selected predictors\n",
    "selected <- c()\n",
    "#loops to try all the models\n",
    "# for every size from 1 to the total number of predictors\n",
    "for (i in 1:n_total) {\n",
    "    # for every predictor still not added yet\n",
    "    accs <- list()\n",
    "    models <- list()\n",
    "\n",
    "#inner loop for model string for different combinations of predictors\n",
    "    for (j in 1:length(names)) {\n",
    "        # create a model string for the combinations of predictors\n",
    "        preds_new <- c(selected, names[[j]])\n",
    "        model_string <- paste(\"Class\", \"~\", paste(preds_new, collapse=\"+\"))\n",
    "        \n",
    "# created a recipe from the model string\n",
    "        raisin_recipe <- recipe(as.formula(model_string), \n",
    "                                data = raisin_subset) %>%\n",
    "                          step_scale(all_predictors()) %>%\n",
    "                          step_center(all_predictors())\n",
    "        \n",
    "# tune the KNN classifier with these predictors, \n",
    "# and collect the accuracy for the best K\n",
    "        acc <- workflow() %>%\n",
    "          add_recipe(raisin_recipe) %>%\n",
    "          add_model(knn_spec) %>%\n",
    "          tune_grid(resamples = raisin_vfold, grid = 10) %>%\n",
    "          collect_metrics() %>%\n",
    "          filter(.metric == \"accuracy\") %>%\n",
    "          summarize(mx = max(mean))\n",
    "        acc <- acc$mx %>% unlist()\n",
    "\n",
    "# adding the result to the dataframe\n",
    "        accs[[j]] <- acc\n",
    "        models[[j]] <- model_string\n",
    "    }\n",
    "    jstar <- which.max(unlist(accs))\n",
    "        accuracies <- accuracies %>% \n",
    "          add_row(size = i, \n",
    "                  model_string = models[[jstar]], \n",
    "                  accuracy = accs[[jstar]])\n",
    "        selected <- c(selected, names[[jstar]])\n",
    "        names <- names[-jstar]\n",
    "}\n",
    "accuracies\n",
    "options(repr.plot.width = 8, repr.plot.height = 8)\n",
    "\n",
    "accuracies_plot <- ggplot(accuracies, aes(x = size, y = accuracy)) +\n",
    "    geom_point() +\n",
    "    geom_line() +\n",
    "    labs(x = \"Number of Predictors\", y = \"Estimated Accuracy\", title = \"Number of Predictors vs Estimated \n",
    "Accuracy of Raisin Data\") +\n",
    "    theme(text = element_text(size = 20))\n",
    "\n",
    "accuracies_plot"
   ]
  },
  {
   "cell_type": "markdown",
   "metadata": {},
   "source": [
    "#### 2. choose K; cross-validation"
   ]
  },
  {
   "cell_type": "code",
   "execution_count": 113,
   "metadata": {},
   "outputs": [
    {
     "data": {
      "image/png": "[encoded data removed]",
      "text/plain": [
       "plot without title"
      ]
     },
     "metadata": {
      "image/png": {
       "height": 480,
       "width": 480
      }
     },
     "output_type": "display_data"
    },
    {
     "data": {
      "image/png": "[encoded data removed]",
      "text/plain": [
       "plot without title"
      ]
     },
     "metadata": {
      "image/png": {
       "height": 480,
       "width": 480
      }
     },
     "output_type": "display_data"
    }
   ],
   "source": [
    "set.seed(5805)\n",
    "raisin_spec <- nearest_neighbor(weight_func = \"rectangular\", neighbors = tune()) %>%\n",
    "    set_engine(\"kknn\") %>%\n",
    "    set_mode(\"classification\") \n",
    "\n",
    "raisin_recipe <- recipe(Class ~ Perimeter + Eccentricity + Area, data = raisin_training) %>%\n",
    "    step_scale(all_predictors()) %>%\n",
    "    step_center(all_predictors())\n",
    "#do I need scale? yes I need. Should I mention y I need the scale?\n",
    "\n",
    "onetotwenty <- tibble(neighbors = seq(1,20))\n",
    "raisin_vfold <- vfold_cv(raisin_training, v = 5, strata = Class)\n",
    "#should I justify y I am using 5 of v?\n",
    "\n",
    "raisin_workflow <- workflow() %>%\n",
    "    add_recipe(raisin_recipe) %>%\n",
    "    add_model(raisin_spec) %>%\n",
    "    tune_grid(resamples = raisin_vfold, grid = onetotwenty) %>%\n",
    "#should I justify y I am using 10 ks?\n",
    "    collect_metrics() %>%\n",
    "    filter(.metric == \"accuracy\")\n",
    "\n",
    "ggplot(raisin_workflow, aes(x = neighbors, y = mean)) +\n",
    "    geom_point() +\n",
    "    geom_line() +\n",
    "    theme(text = element_text(size = 20))\n",
    "\n",
    "filtered_raisin_workflow <- filter(raisin_workflow, neighbors <= 15)\n",
    "ggplot(filtered_raisin_workflow, aes(x = neighbors, y = mean)) +\n",
    "    geom_point() +\n",
    "    geom_line() +\n",
    "    theme(text = element_text(size = 20))\n"
   ]
  },
  {
   "cell_type": "markdown",
   "metadata": {},
   "source": [
    "#### 3. predict and find accuracy on testing set; train and predict  "
   ]
  },
  {
   "cell_type": "code",
   "execution_count": 119,
   "metadata": {},
   "outputs": [
    {
     "data": {
      "text/html": [
       "<table>\n",
       "<caption>A tibble: 1 × 3</caption>\n",
       "<thead>\n",
       "\t<tr><th scope=col>.metric</th><th scope=col>.estimator</th><th scope=col>.estimate</th></tr>\n",
       "\t<tr><th scope=col>&lt;chr&gt;</th><th scope=col>&lt;chr&gt;</th><th scope=col>&lt;dbl&gt;</th></tr>\n",
       "</thead>\n",
       "<tbody>\n",
       "\t<tr><td>accuracy</td><td>binary</td><td>0.8303571</td></tr>\n",
       "</tbody>\n",
       "</table>\n"
      ],
      "text/latex": [
       "A tibble: 1 × 3\n",
       "\\begin{tabular}{lll}\n",
       " .metric & .estimator & .estimate\\\\\n",
       " <chr> & <chr> & <dbl>\\\\\n",
       "\\hline\n",
       "\t accuracy & binary & 0.8303571\\\\\n",
       "\\end{tabular}\n"
      ],
      "text/markdown": [
       "\n",
       "A tibble: 1 × 3\n",
       "\n",
       "| .metric &lt;chr&gt; | .estimator &lt;chr&gt; | .estimate &lt;dbl&gt; |\n",
       "|---|---|---|\n",
       "| accuracy | binary | 0.8303571 |\n",
       "\n"
      ],
      "text/plain": [
       "  .metric  .estimator .estimate\n",
       "1 accuracy binary     0.8303571"
      ]
     },
     "metadata": {},
     "output_type": "display_data"
    },
    {
     "data": {
      "text/plain": [
       "          Truth\n",
       "Prediction Kecimen Besni\n",
       "   Kecimen      99    25\n",
       "   Besni        13    87"
      ]
     },
     "metadata": {},
     "output_type": "display_data"
    }
   ],
   "source": [
    "set.seed(5805)\n",
    "raisin_best_spec <- nearest_neighbor(weight_func = \"rectangular\", neighbors = 11) %>%\n",
    "    set_engine(\"kknn\") %>%\n",
    "    set_mode(\"classification\") \n",
    "\n",
    "raisin_workflow <- workflow() %>%\n",
    "    add_recipe(raisin_recipe) %>%\n",
    "    add_model(raisin_best_spec) %>%\n",
    "    fit(data = raisin_training) \n",
    "\n",
    "raisin_result <- raisin_workflow %>%\n",
    "    predict(raisin_testing) %>%\n",
    "    bind_cols(raisin_testing) \n",
    "\n",
    "raisin_accuracy <- raisin_result %>%\n",
    "    metrics(truth = Class, estimate = .pred_class) %>%\n",
    "    filter(.metric == \"accuracy\")\n",
    "raisin_accuracy\n",
    "\n",
    "raisin_conf_mat <- raisin_result %>%\n",
    "    conf_mat(truth = Class, estimate = .pred_class)\n",
    "raisin_conf_mat"
   ]
  },
  {
   "cell_type": "markdown",
   "metadata": {},
   "source": [
    "finding: accuracy is 0.8303571"
   ]
  },
  {
   "cell_type": "markdown",
   "metadata": {},
   "source": [
    "#### 4. compare the model prediction with other research model predictions"
   ]
  },
  {
   "cell_type": "code",
   "execution_count": 161,
   "metadata": {},
   "outputs": [
    {
     "data": {
      "text/html": [
       "<table>\n",
       "<caption>A tibble: 4 × 3</caption>\n",
       "<thead>\n",
       "\t<tr><th scope=col>.metric</th><th scope=col>.estimator</th><th scope=col>.estimate</th></tr>\n",
       "\t<tr><th scope=col>&lt;chr&gt;</th><th scope=col>&lt;chr&gt;</th><th scope=col>&lt;dbl&gt;</th></tr>\n",
       "</thead>\n",
       "<tbody>\n",
       "\t<tr><td>accuracy </td><td>binary</td><td>0.8303571</td></tr>\n",
       "\t<tr><td>sens     </td><td>binary</td><td>0.8839286</td></tr>\n",
       "\t<tr><td>spec     </td><td>binary</td><td>0.7767857</td></tr>\n",
       "\t<tr><td>precision</td><td>binary</td><td>0.7983871</td></tr>\n",
       "</tbody>\n",
       "</table>\n"
      ],
      "text/latex": [
       "A tibble: 4 × 3\n",
       "\\begin{tabular}{lll}\n",
       " .metric & .estimator & .estimate\\\\\n",
       " <chr> & <chr> & <dbl>\\\\\n",
       "\\hline\n",
       "\t accuracy  & binary & 0.8303571\\\\\n",
       "\t sens      & binary & 0.8839286\\\\\n",
       "\t spec      & binary & 0.7767857\\\\\n",
       "\t precision & binary & 0.7983871\\\\\n",
       "\\end{tabular}\n"
      ],
      "text/markdown": [
       "\n",
       "A tibble: 4 × 3\n",
       "\n",
       "| .metric &lt;chr&gt; | .estimator &lt;chr&gt; | .estimate &lt;dbl&gt; |\n",
       "|---|---|---|\n",
       "| accuracy  | binary | 0.8303571 |\n",
       "| sens      | binary | 0.8839286 |\n",
       "| spec      | binary | 0.7767857 |\n",
       "| precision | binary | 0.7983871 |\n",
       "\n"
      ],
      "text/plain": [
       "  .metric   .estimator .estimate\n",
       "1 accuracy  binary     0.8303571\n",
       "2 sens      binary     0.8839286\n",
       "3 spec      binary     0.7767857\n",
       "4 precision binary     0.7983871"
      ]
     },
     "metadata": {},
     "output_type": "display_data"
    }
   ],
   "source": [
    "#data from raisin_conf_mat\n",
    "tp <- 99\n",
    "fp <- 25\n",
    "fn <- 13\n",
    "tn <- 87\n",
    "\n",
    "#formula to find accuracy, sensitivity, etc\n",
    "accuracy <- ((tp + tn)/(tp + fp + tn + fn))*100\n",
    "sensitivity <- (tp / (tp + fn))*100\n",
    "\n",
    "#decided to use summary(raisin_conf_mat)\n",
    "\n",
    "# KNN <- as.data.frame(t(summary(raisin_conf_mat))) %>%\n",
    "#     rename(Accuracy = V1)\n",
    "\n",
    "KNN <- summary(raisin_conf_mat) %>%\n",
    "    filter(.metric == \"accuracy\" | .metric == \"sens\" | .metric == \"spec\" | .metric == \"precision\")\n",
    "\n",
    "KNN \n",
    "#filter the .metrics that also appeared on the research's performance measurements: accuracy, sens, spec, precision\n",
    "\n",
    "\n",
    "#the missing metrics compared to the research is filled in by the provided formula\n",
    "#missing: F1-Score, Negative_Predictive_Value, False_Positive_Rate, False_Discovery_Rate, False_Negative_Rate\n"
   ]
  },
  {
   "cell_type": "code",
   "execution_count": 158,
   "metadata": {},
   "outputs": [
    {
     "data": {
      "text/html": [
       "<table>\n",
       "<caption>A tibble: 9 × 4</caption>\n",
       "<thead>\n",
       "\t<tr><th scope=col>performance_measure</th><th scope=col>LR</th><th scope=col>MLP</th><th scope=col>SVM</th></tr>\n",
       "\t<tr><th scope=col>&lt;chr&gt;</th><th scope=col>&lt;dbl&gt;</th><th scope=col>&lt;dbl&gt;</th><th scope=col>&lt;dbl&gt;</th></tr>\n",
       "</thead>\n",
       "<tbody>\n",
       "\t<tr><td>Accuracy                 </td><td>85.22</td><td>86.33</td><td>86.44</td></tr>\n",
       "\t<tr><td>Sensivity                </td><td>84.09</td><td>84.57</td><td>84.17</td></tr>\n",
       "\t<tr><td>Specificity              </td><td>86.44</td><td>88.29</td><td>89.05</td></tr>\n",
       "\t<tr><td>Precision                </td><td>86.89</td><td>88.89</td><td>89.78</td></tr>\n",
       "\t<tr><td>F1-Score                 </td><td>85.46</td><td>86.67</td><td>86.88</td></tr>\n",
       "\t<tr><td>Negative_Predictive_Value</td><td>83.56</td><td>83.78</td><td>83.11</td></tr>\n",
       "\t<tr><td>False_Positive_Rate      </td><td>13.56</td><td>11.71</td><td>10.95</td></tr>\n",
       "\t<tr><td>False_Discovery_Rate     </td><td>13.11</td><td>11.11</td><td>10.22</td></tr>\n",
       "\t<tr><td>False_Negative_Rate      </td><td>15.91</td><td>15.41</td><td>15.83</td></tr>\n",
       "</tbody>\n",
       "</table>\n"
      ],
      "text/latex": [
       "A tibble: 9 × 4\n",
       "\\begin{tabular}{llll}\n",
       " performance\\_measure & LR & MLP & SVM\\\\\n",
       " <chr> & <dbl> & <dbl> & <dbl>\\\\\n",
       "\\hline\n",
       "\t Accuracy                  & 85.22 & 86.33 & 86.44\\\\\n",
       "\t Sensivity                 & 84.09 & 84.57 & 84.17\\\\\n",
       "\t Specificity               & 86.44 & 88.29 & 89.05\\\\\n",
       "\t Precision                 & 86.89 & 88.89 & 89.78\\\\\n",
       "\t F1-Score                  & 85.46 & 86.67 & 86.88\\\\\n",
       "\t Negative\\_Predictive\\_Value & 83.56 & 83.78 & 83.11\\\\\n",
       "\t False\\_Positive\\_Rate       & 13.56 & 11.71 & 10.95\\\\\n",
       "\t False\\_Discovery\\_Rate      & 13.11 & 11.11 & 10.22\\\\\n",
       "\t False\\_Negative\\_Rate       & 15.91 & 15.41 & 15.83\\\\\n",
       "\\end{tabular}\n"
      ],
      "text/markdown": [
       "\n",
       "A tibble: 9 × 4\n",
       "\n",
       "| performance_measure &lt;chr&gt; | LR &lt;dbl&gt; | MLP &lt;dbl&gt; | SVM &lt;dbl&gt; |\n",
       "|---|---|---|---|\n",
       "| Accuracy                  | 85.22 | 86.33 | 86.44 |\n",
       "| Sensivity                 | 84.09 | 84.57 | 84.17 |\n",
       "| Specificity               | 86.44 | 88.29 | 89.05 |\n",
       "| Precision                 | 86.89 | 88.89 | 89.78 |\n",
       "| F1-Score                  | 85.46 | 86.67 | 86.88 |\n",
       "| Negative_Predictive_Value | 83.56 | 83.78 | 83.11 |\n",
       "| False_Positive_Rate       | 13.56 | 11.71 | 10.95 |\n",
       "| False_Discovery_Rate      | 13.11 | 11.11 | 10.22 |\n",
       "| False_Negative_Rate       | 15.91 | 15.41 | 15.83 |\n",
       "\n"
      ],
      "text/plain": [
       "  performance_measure       LR    MLP   SVM  \n",
       "1 Accuracy                  85.22 86.33 86.44\n",
       "2 Sensivity                 84.09 84.57 84.17\n",
       "3 Specificity               86.44 88.29 89.05\n",
       "4 Precision                 86.89 88.89 89.78\n",
       "5 F1-Score                  85.46 86.67 86.88\n",
       "6 Negative_Predictive_Value 83.56 83.78 83.11\n",
       "7 False_Positive_Rate       13.56 11.71 10.95\n",
       "8 False_Discovery_Rate      13.11 11.11 10.22\n",
       "9 False_Negative_Rate       15.91 15.41 15.83"
      ]
     },
     "metadata": {},
     "output_type": "display_data"
    },
    {
     "data": {
      "text/html": [
       "<table>\n",
       "<caption>A data.frame: 4 × 9</caption>\n",
       "<thead>\n",
       "\t<tr><th></th><th scope=col>V1</th><th scope=col>V2</th><th scope=col>V3</th><th scope=col>V4</th><th scope=col>V5</th><th scope=col>V6</th><th scope=col>V7</th><th scope=col>V8</th><th scope=col>V9</th></tr>\n",
       "\t<tr><th></th><th scope=col>&lt;chr&gt;</th><th scope=col>&lt;chr&gt;</th><th scope=col>&lt;chr&gt;</th><th scope=col>&lt;chr&gt;</th><th scope=col>&lt;chr&gt;</th><th scope=col>&lt;chr&gt;</th><th scope=col>&lt;chr&gt;</th><th scope=col>&lt;chr&gt;</th><th scope=col>&lt;chr&gt;</th></tr>\n",
       "</thead>\n",
       "<tbody>\n",
       "\t<tr><th scope=row>performance_measure</th><td>Accuracy</td><td>Sensivity</td><td>Specificity</td><td>Precision</td><td>F1-Score</td><td>Negative_Predictive_Value</td><td>False_Positive_Rate</td><td>False_Discovery_Rate</td><td>False_Negative_Rate</td></tr>\n",
       "\t<tr><th scope=row>LR</th><td>85.22   </td><td>84.09    </td><td>86.44      </td><td>86.89    </td><td>85.46   </td><td>83.56                    </td><td>13.56              </td><td>13.11               </td><td>15.91              </td></tr>\n",
       "\t<tr><th scope=row>MLP</th><td>86.33   </td><td>84.57    </td><td>88.29      </td><td>88.89    </td><td>86.67   </td><td>83.78                    </td><td>11.71              </td><td>11.11               </td><td>15.41              </td></tr>\n",
       "\t<tr><th scope=row>SVM</th><td>86.44   </td><td>84.17    </td><td>89.05      </td><td>89.78    </td><td>86.88   </td><td>83.11                    </td><td>10.95              </td><td>10.22               </td><td>15.83              </td></tr>\n",
       "</tbody>\n",
       "</table>\n"
      ],
      "text/latex": [
       "A data.frame: 4 × 9\n",
       "\\begin{tabular}{r|lllllllll}\n",
       "  & V1 & V2 & V3 & V4 & V5 & V6 & V7 & V8 & V9\\\\\n",
       "  & <chr> & <chr> & <chr> & <chr> & <chr> & <chr> & <chr> & <chr> & <chr>\\\\\n",
       "\\hline\n",
       "\tperformance\\_measure & Accuracy & Sensivity & Specificity & Precision & F1-Score & Negative\\_Predictive\\_Value & False\\_Positive\\_Rate & False\\_Discovery\\_Rate & False\\_Negative\\_Rate\\\\\n",
       "\tLR & 85.22    & 84.09     & 86.44       & 86.89     & 85.46    & 83.56                     & 13.56               & 13.11                & 15.91              \\\\\n",
       "\tMLP & 86.33    & 84.57     & 88.29       & 88.89     & 86.67    & 83.78                     & 11.71               & 11.11                & 15.41              \\\\\n",
       "\tSVM & 86.44    & 84.17     & 89.05       & 89.78     & 86.88    & 83.11                     & 10.95               & 10.22                & 15.83              \\\\\n",
       "\\end{tabular}\n"
      ],
      "text/markdown": [
       "\n",
       "A data.frame: 4 × 9\n",
       "\n",
       "| <!--/--> | V1 &lt;chr&gt; | V2 &lt;chr&gt; | V3 &lt;chr&gt; | V4 &lt;chr&gt; | V5 &lt;chr&gt; | V6 &lt;chr&gt; | V7 &lt;chr&gt; | V8 &lt;chr&gt; | V9 &lt;chr&gt; |\n",
       "|---|---|---|---|---|---|---|---|---|---|\n",
       "| performance_measure | Accuracy | Sensivity | Specificity | Precision | F1-Score | Negative_Predictive_Value | False_Positive_Rate | False_Discovery_Rate | False_Negative_Rate |\n",
       "| LR | 85.22    | 84.09     | 86.44       | 86.89     | 85.46    | 83.56                     | 13.56               | 13.11                | 15.91               |\n",
       "| MLP | 86.33    | 84.57     | 88.29       | 88.89     | 86.67    | 83.78                     | 11.71               | 11.11                | 15.41               |\n",
       "| SVM | 86.44    | 84.17     | 89.05       | 89.78     | 86.88    | 83.11                     | 10.95               | 10.22                | 15.83               |\n",
       "\n"
      ],
      "text/plain": [
       "                    V1       V2        V3          V4        V5      \n",
       "performance_measure Accuracy Sensivity Specificity Precision F1-Score\n",
       "LR                  85.22    84.09     86.44       86.89     85.46   \n",
       "MLP                 86.33    84.57     88.29       88.89     86.67   \n",
       "SVM                 86.44    84.17     89.05       89.78     86.88   \n",
       "                    V6                        V7                 \n",
       "performance_measure Negative_Predictive_Value False_Positive_Rate\n",
       "LR                  83.56                     13.56              \n",
       "MLP                 83.78                     11.71              \n",
       "SVM                 83.11                     10.95              \n",
       "                    V8                   V9                 \n",
       "performance_measure False_Discovery_Rate False_Negative_Rate\n",
       "LR                  13.11                15.91              \n",
       "MLP                 11.11                15.41              \n",
       "SVM                 10.22                15.83              "
      ]
     },
     "metadata": {},
     "output_type": "display_data"
    }
   ],
   "source": [
    "measure_labels <- c(\"Accuracy\", \"Sensivity\", \"Specificity\", \"Precision\", \"F1-Score\",\n",
    "                    \"Negative_Predictive_Value\", \"False_Positive_Rate\", \"False_Discovery_Rate\",\n",
    "                    \"False_Negative_Rate\")\n",
    "\n",
    "measure_lr <- c(85.22, 84.09, 86.44, 86.89, 85.46, 83.56, 13.56, 13.11, 15.91)\n",
    "measure_mlp <- c(86.33, 84.57, 88.29, 88.89, 86.67, 83.78, 11.71, 11.11, 15.41)\n",
    "measure_svm <- c(86.44, 84.17, 89.05, 89.78, 86.88, 83.11, 10.95, 10.22, 15.83)\n",
    "\n",
    "measurements <- tibble(performance_measure = measure_labels, LR = measure_lr, MLP = measure_mlp, SVM = measure_svm)\n",
    "measurements\n",
    "\n",
    "# measurements_t <- as.data.frame(t(measurements))\n",
    "# measurements_t"
   ]
  },
  {
   "cell_type": "code",
   "execution_count": null,
   "metadata": {},
   "outputs": [],
   "source": []
  }
 ],
 "metadata": {
  "kernelspec": {
   "display_name": "R",
   "language": "R",
   "name": "ir"
  },
  "language_info": {
   "codemirror_mode": "r",
   "file_extension": ".r",
   "mimetype": "text/x-r-source",
   "name": "R",
   "pygments_lexer": "r",
   "version": "4.0.0"
  }
 },
 "nbformat": 4,
 "nbformat_minor": 4
}
